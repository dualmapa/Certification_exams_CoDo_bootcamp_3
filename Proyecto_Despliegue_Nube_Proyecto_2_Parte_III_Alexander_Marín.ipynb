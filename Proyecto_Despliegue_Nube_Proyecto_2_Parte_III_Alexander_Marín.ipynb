{
  "nbformat": 4,
  "nbformat_minor": 0,
  "metadata": {
    "colab": {
      "provenance": []
    },
    "kernelspec": {
      "name": "python3",
      "display_name": "Python 3"
    },
    "language_info": {
      "name": "python"
    }
  },
  "cells": [
    {
      "cell_type": "markdown",
      "source": [
        "# Proyecto Final  Despliegue de Proyecto en la Nube con Métricas y Presentación Pitch (Core)\n",
        "\n",
        "Quise realizar este Core como continuación del proyecto 2 parte II\n",
        "\n",
        "\n",
        "- Descripción:\n",
        "\n",
        "En esta actividad final, deberás desplegar el proyecto que has desarrollado en la nube, utilizando alguna plataforma como Google Cloud Platform (GCP), Amazon Web Services (AWS) o Microsoft Azure. El despliegue debe incluir métricas relevantes del modelo, visualizaciones de resultados y una presentación tipo pitch de máximo 5 minutos.\n",
        "\n",
        "- Objetivo:\n",
        "\n",
        "El objetivo es que implementes todo el flujo de trabajo del proyecto en la nube, desde el entrenamiento hasta el despliegue del modelo, y presentes los resultados de manera clara y profesional."
      ],
      "metadata": {
        "id": "F-0Q1dHqTUUK"
      }
    },
    {
      "cell_type": "markdown",
      "source": [
        "# 1. Selección de la nube y configuración:\n",
        "\n",
        "  – Elige la plataforma en la nube que utilizarás para desplegar tu proyecto (GCP, AWS o Azure).\n",
        "  \n",
        "  – Configura una instancia virtual o utiliza servicios como Google AI Platform, Amazon SageMaker o Azure Machine Learning para entrenar y desplegar tu modelo."
      ],
      "metadata": {
        "id": "xU9perdEr-Si"
      }
    },
    {
      "cell_type": "code",
      "source": [],
      "metadata": {
        "id": "UBkBzsjhr96A"
      },
      "execution_count": null,
      "outputs": []
    },
    {
      "cell_type": "markdown",
      "source": [
        "# 2. Entrenamiento y despliegue del modelo:\n",
        "\n",
        "  – Si aún no lo has hecho, entrena tu modelo final utilizando los datos y técnicas que seleccionaste durante el desarrollo del proyecto.\n",
        "\n",
        "  – Despliega el modelo en la nube, asegurándote de que sea accesible a través de una API o una interfaz web. Puedes utilizar Flask o FastAPI para crear una interfaz sencilla.\n"
      ],
      "metadata": {
        "id": "yw7EPnOzsD5Y"
      }
    },
    {
      "cell_type": "markdown",
      "source": [
        "### Dataset seleccionado:\n",
        "Seleccioné el archivo de satisfaction\n",
        "\n",
        "https://www.kaggle.com/datasets/pooriamst/online-shopping/data\n",
        "\n",
        "En el archivo 6_(Core)_Proyecto_2_Parte_I_Alexander_Marín.ipynb corresponde al df_satisfaction"
      ],
      "metadata": {
        "id": "FZLQchtTof7_"
      }
    },
    {
      "cell_type": "code",
      "source": [
        "# Instalar la API de Kaggle\n",
        "!pip install kaggle\n",
        "\n",
        "# Crear el directorio para las credenciales de Kaggle\n",
        "!mkdir -p ~/.kaggle"
      ],
      "metadata": {
        "colab": {
          "base_uri": "https://localhost:8080/"
        },
        "id": "Tl6Pu_cxoccQ",
        "outputId": "709f6ee7-466d-49ea-d4af-df7a13dac300"
      },
      "execution_count": 1,
      "outputs": [
        {
          "output_type": "stream",
          "name": "stdout",
          "text": [
            "Requirement already satisfied: kaggle in /usr/local/lib/python3.11/dist-packages (1.6.17)\n",
            "Requirement already satisfied: six>=1.10 in /usr/local/lib/python3.11/dist-packages (from kaggle) (1.17.0)\n",
            "Requirement already satisfied: certifi>=2023.7.22 in /usr/local/lib/python3.11/dist-packages (from kaggle) (2025.1.31)\n",
            "Requirement already satisfied: python-dateutil in /usr/local/lib/python3.11/dist-packages (from kaggle) (2.8.2)\n",
            "Requirement already satisfied: requests in /usr/local/lib/python3.11/dist-packages (from kaggle) (2.32.3)\n",
            "Requirement already satisfied: tqdm in /usr/local/lib/python3.11/dist-packages (from kaggle) (4.67.1)\n",
            "Requirement already satisfied: python-slugify in /usr/local/lib/python3.11/dist-packages (from kaggle) (8.0.4)\n",
            "Requirement already satisfied: urllib3 in /usr/local/lib/python3.11/dist-packages (from kaggle) (2.3.0)\n",
            "Requirement already satisfied: bleach in /usr/local/lib/python3.11/dist-packages (from kaggle) (6.2.0)\n",
            "Requirement already satisfied: webencodings in /usr/local/lib/python3.11/dist-packages (from bleach->kaggle) (0.5.1)\n",
            "Requirement already satisfied: text-unidecode>=1.3 in /usr/local/lib/python3.11/dist-packages (from python-slugify->kaggle) (1.3)\n",
            "Requirement already satisfied: charset-normalizer<4,>=2 in /usr/local/lib/python3.11/dist-packages (from requests->kaggle) (3.4.1)\n",
            "Requirement already satisfied: idna<4,>=2.5 in /usr/local/lib/python3.11/dist-packages (from requests->kaggle) (3.10)\n"
          ]
        }
      ]
    },
    {
      "cell_type": "code",
      "source": [
        "!cp kaggle.json ~/.kaggle/\n",
        "!chmod 600 ~/.kaggle/kaggle.json"
      ],
      "metadata": {
        "id": "Tbqj0Mi-odG-",
        "colab": {
          "base_uri": "https://localhost:8080/"
        },
        "outputId": "a424e2a4-0b0f-4a4d-f698-03741b3fa70e"
      },
      "execution_count": 2,
      "outputs": [
        {
          "output_type": "stream",
          "name": "stdout",
          "text": [
            "cp: cannot stat 'kaggle.json': No such file or directory\n",
            "chmod: cannot access '/root/.kaggle/kaggle.json': No such file or directory\n"
          ]
        }
      ]
    },
    {
      "cell_type": "code",
      "source": [
        "!kaggle datasets download -d pooriamst/online-shopping\n",
        "!unzip online-shopping.zip"
      ],
      "metadata": {
        "colab": {
          "base_uri": "https://localhost:8080/"
        },
        "id": "x6I5yx5Uoewk",
        "outputId": "0e30d63b-f1db-4d31-8945-49addf938665"
      },
      "execution_count": 3,
      "outputs": [
        {
          "output_type": "stream",
          "name": "stdout",
          "text": [
            "Dataset URL: https://www.kaggle.com/datasets/pooriamst/online-shopping\n",
            "License(s): Attribution 4.0 International (CC BY 4.0)\n",
            "Downloading online-shopping.zip to /content\n",
            "  0% 0.00/6.96k [00:00<?, ?B/s]\n",
            "100% 6.96k/6.96k [00:00<00:00, 10.3MB/s]\n",
            "Archive:  online-shopping.zip\n",
            "  inflating: AI in Retail Dataset.csv  \n"
          ]
        }
      ]
    },
    {
      "cell_type": "code",
      "source": [
        "import pandas as pd\n",
        "import numpy as np\n",
        "import matplotlib.pyplot as plt\n",
        "import seaborn as sns\n",
        "\n",
        "# Lee el archivo CSV\n",
        "df = pd.read_csv('/content/AI in Retail Dataset.csv', encoding='latin-1')"
      ],
      "metadata": {
        "id": "AJ_R4z3docZb"
      },
      "execution_count": 34,
      "outputs": []
    },
    {
      "cell_type": "code",
      "source": [
        "print(df.info())\n",
        "print(\"\\n\")\n",
        "print(df.describe(include='all').round(2))\n",
        "print(\"\\n\")\n",
        "print(\"Valores nulos:\")\n",
        "print(df.isnull().sum() * 100 / len(df))\n",
        "print(\"\\n\")\n",
        "print(\"Valores duplicados:\")\n",
        "print(df.duplicated().sum())\n",
        "print(\"\\n\")"
      ],
      "metadata": {
        "id": "KPw-FCa-ocW8",
        "colab": {
          "base_uri": "https://localhost:8080/"
        },
        "outputId": "51a042a9-92ca-484e-ceb4-573a649dac5a"
      },
      "execution_count": 35,
      "outputs": [
        {
          "output_type": "stream",
          "name": "stdout",
          "text": [
            "<class 'pandas.core.frame.DataFrame'>\n",
            "RangeIndex: 656 entries, 0 to 655\n",
            "Data columns (total 23 columns):\n",
            " #   Column                            Non-Null Count  Dtype \n",
            "---  ------                            --------------  ----- \n",
            " 0   Country                           656 non-null    object\n",
            " 1   Online_Consumer                   656 non-null    object\n",
            " 2   Age                               656 non-null    object\n",
            " 3   Annual_Salary                     656 non-null    object\n",
            " 4   Gender                            656 non-null    object\n",
            " 5   Education                         656 non-null    object\n",
            " 6   Payment_Method_Credit/Debit       656 non-null    object\n",
            " 7   Living_Region                     656 non-null    object\n",
            " 8   Online_Service_Preference         656 non-null    object\n",
            " 9   AI_Endorsement                    656 non-null    object\n",
            " 10  AI_Privacy_No_Trust               656 non-null    object\n",
            " 11  AI_Enhance_Experience             656 non-null    object\n",
            " 12  AI_Satisfication                  656 non-null    object\n",
            " 13  AI_Tools_Used _Chatbots           656 non-null    object\n",
            " 14  AI_Tools_Used_Virtual_Assistant   656 non-null    object\n",
            " 15  AI_Tools_Used_Voice&Photo_Search  656 non-null    object\n",
            " 16  Payment_Method_COD                656 non-null    object\n",
            " 17  Payment_Method_Ewallet            656 non-null    object\n",
            " 18  Product_Category_Appliances       656 non-null    object\n",
            " 19  Product_Category_Electronics      656 non-null    object\n",
            " 20  Product_Category_Groceries        656 non-null    object\n",
            " 21  Product_Category_Personal_Care    656 non-null    object\n",
            " 22  Product_Category_Clothing         656 non-null    object\n",
            "dtypes: object(23)\n",
            "memory usage: 118.0+ KB\n",
            "None\n",
            "\n",
            "\n",
            "       Country Online_Consumer          Age Annual_Salary  Gender  \\\n",
            "count      656             656          656           656     656   \n",
            "unique       3               2            4             4       3   \n",
            "top      CHINA             YES  Millennials          High  Female   \n",
            "freq       252             635          366           230     361   \n",
            "\n",
            "                  Education Payment_Method_Credit/Debit Living_Region  \\\n",
            "count                   656                         656           656   \n",
            "unique                    4                           2             3   \n",
            "top     University Graduate                         YES  Metropolitan   \n",
            "freq                    347                         425           438   \n",
            "\n",
            "       Online_Service_Preference AI_Endorsement  ... AI_Tools_Used _Chatbots  \\\n",
            "count                        656            656  ...                     656   \n",
            "unique                         2              2  ...                       2   \n",
            "top                          YES            YES  ...                      NO   \n",
            "freq                         485            554  ...                     359   \n",
            "\n",
            "       AI_Tools_Used_Virtual_Assistant AI_Tools_Used_Voice&Photo_Search  \\\n",
            "count                              656                              656   \n",
            "unique                               2                                2   \n",
            "top                                 NO                               NO   \n",
            "freq                               359                              406   \n",
            "\n",
            "       Payment_Method_COD Payment_Method_Ewallet Product_Category_Appliances  \\\n",
            "count                 656                    656                         656   \n",
            "unique                  2                      2                           2   \n",
            "top                    NO                     NO                         YES   \n",
            "freq                  462                    407                         329   \n",
            "\n",
            "       Product_Category_Electronics Product_Category_Groceries  \\\n",
            "count                           656                        656   \n",
            "unique                            2                          2   \n",
            "top                             YES                         NO   \n",
            "freq                            432                        374   \n",
            "\n",
            "       Product_Category_Personal_Care Product_Category_Clothing  \n",
            "count                             656                       656  \n",
            "unique                              2                         2  \n",
            "top                               YES                       YES  \n",
            "freq                              342                       480  \n",
            "\n",
            "[4 rows x 23 columns]\n",
            "\n",
            "\n",
            "Valores nulos:\n",
            "Country                             0.0\n",
            "Online_Consumer                     0.0\n",
            "Age                                 0.0\n",
            "Annual_Salary                       0.0\n",
            "Gender                              0.0\n",
            "Education                           0.0\n",
            "Payment_Method_Credit/Debit         0.0\n",
            "Living_Region                       0.0\n",
            "Online_Service_Preference           0.0\n",
            "AI_Endorsement                      0.0\n",
            "AI_Privacy_No_Trust                 0.0\n",
            "AI_Enhance_Experience               0.0\n",
            "AI_Satisfication                    0.0\n",
            "AI_Tools_Used _Chatbots             0.0\n",
            "AI_Tools_Used_Virtual_Assistant     0.0\n",
            "AI_Tools_Used_Voice&Photo_Search    0.0\n",
            "Payment_Method_COD                  0.0\n",
            "Payment_Method_Ewallet              0.0\n",
            "Product_Category_Appliances         0.0\n",
            "Product_Category_Electronics        0.0\n",
            "Product_Category_Groceries          0.0\n",
            "Product_Category_Personal_Care      0.0\n",
            "Product_Category_Clothing           0.0\n",
            "dtype: float64\n",
            "\n",
            "\n",
            "Valores duplicados:\n",
            "8\n",
            "\n",
            "\n"
          ]
        }
      ]
    },
    {
      "cell_type": "code",
      "source": [
        "def uniq (df):\n",
        "    df=pd.DataFrame([[i,df[i].unique(),df[i].dtype,len(df[i].unique())]for i in df.columns],columns=['feature','val','types','len']).set_index('feature')\n",
        "    return df\n",
        "\n",
        "uniq(df)"
      ],
      "metadata": {
        "id": "WN-53lKCtfoE",
        "colab": {
          "base_uri": "https://localhost:8080/",
          "height": 802
        },
        "outputId": "1d28efad-1bdd-4bbc-ba3a-d6c33ba8d773"
      },
      "execution_count": 36,
      "outputs": [
        {
          "output_type": "execute_result",
          "data": {
            "text/plain": [
              "                                                                                val  \\\n",
              "feature                                                                               \n",
              "Country                                                      [INDIA, CHINA, CANADA]   \n",
              "Online_Consumer                                                           [YES, NO]   \n",
              "Age                                       [Gen X, Gen Z, Millennials, Baby Boomers]   \n",
              "Annual_Salary                                      [Medium High, Low, High, Medium]   \n",
              "Gender                                            [Female, Male, Prefer not to say]   \n",
              "Education                         [Masters Degree, University Graduate, Highsch...   \n",
              "Payment_Method_Credit/Debit                                               [NO, YES]   \n",
              "Living_Region                           [Metropolitan, Rural Areas, Suburban Areas]   \n",
              "Online_Service_Preference                                                 [NO, YES]   \n",
              "AI_Endorsement                                                            [YES, NO]   \n",
              "AI_Privacy_No_Trust                                                       [YES, NO]   \n",
              "AI_Enhance_Experience                                                     [YES, NO]   \n",
              "AI_Satisfication                                           [Satisfied, Unsatisfied]   \n",
              "AI_Tools_Used _Chatbots                                                   [YES, NO]   \n",
              "AI_Tools_Used_Virtual_Assistant                                           [YES, NO]   \n",
              "AI_Tools_Used_Voice&Photo_Search                                          [YES, NO]   \n",
              "Payment_Method_COD                                                        [YES, NO]   \n",
              "Payment_Method_Ewallet                                                    [NO, YES]   \n",
              "Product_Category_Appliances                                               [YES, NO]   \n",
              "Product_Category_Electronics                                              [YES, NO]   \n",
              "Product_Category_Groceries                                                [YES, NO]   \n",
              "Product_Category_Personal_Care                                            [YES, NO]   \n",
              "Product_Category_Clothing                                                 [YES, NO]   \n",
              "\n",
              "                                   types  len  \n",
              "feature                                        \n",
              "Country                           object    3  \n",
              "Online_Consumer                   object    2  \n",
              "Age                               object    4  \n",
              "Annual_Salary                     object    4  \n",
              "Gender                            object    3  \n",
              "Education                         object    4  \n",
              "Payment_Method_Credit/Debit       object    2  \n",
              "Living_Region                     object    3  \n",
              "Online_Service_Preference         object    2  \n",
              "AI_Endorsement                    object    2  \n",
              "AI_Privacy_No_Trust               object    2  \n",
              "AI_Enhance_Experience             object    2  \n",
              "AI_Satisfication                  object    2  \n",
              "AI_Tools_Used _Chatbots           object    2  \n",
              "AI_Tools_Used_Virtual_Assistant   object    2  \n",
              "AI_Tools_Used_Voice&Photo_Search  object    2  \n",
              "Payment_Method_COD                object    2  \n",
              "Payment_Method_Ewallet            object    2  \n",
              "Product_Category_Appliances       object    2  \n",
              "Product_Category_Electronics      object    2  \n",
              "Product_Category_Groceries        object    2  \n",
              "Product_Category_Personal_Care    object    2  \n",
              "Product_Category_Clothing         object    2  "
            ],
            "text/html": [
              "\n",
              "  <div id=\"df-51c8128c-7cef-4ab7-a80c-d9fdc1743864\" class=\"colab-df-container\">\n",
              "    <div>\n",
              "<style scoped>\n",
              "    .dataframe tbody tr th:only-of-type {\n",
              "        vertical-align: middle;\n",
              "    }\n",
              "\n",
              "    .dataframe tbody tr th {\n",
              "        vertical-align: top;\n",
              "    }\n",
              "\n",
              "    .dataframe thead th {\n",
              "        text-align: right;\n",
              "    }\n",
              "</style>\n",
              "<table border=\"1\" class=\"dataframe\">\n",
              "  <thead>\n",
              "    <tr style=\"text-align: right;\">\n",
              "      <th></th>\n",
              "      <th>val</th>\n",
              "      <th>types</th>\n",
              "      <th>len</th>\n",
              "    </tr>\n",
              "    <tr>\n",
              "      <th>feature</th>\n",
              "      <th></th>\n",
              "      <th></th>\n",
              "      <th></th>\n",
              "    </tr>\n",
              "  </thead>\n",
              "  <tbody>\n",
              "    <tr>\n",
              "      <th>Country</th>\n",
              "      <td>[INDIA, CHINA, CANADA]</td>\n",
              "      <td>object</td>\n",
              "      <td>3</td>\n",
              "    </tr>\n",
              "    <tr>\n",
              "      <th>Online_Consumer</th>\n",
              "      <td>[YES, NO]</td>\n",
              "      <td>object</td>\n",
              "      <td>2</td>\n",
              "    </tr>\n",
              "    <tr>\n",
              "      <th>Age</th>\n",
              "      <td>[Gen X, Gen Z, Millennials, Baby Boomers]</td>\n",
              "      <td>object</td>\n",
              "      <td>4</td>\n",
              "    </tr>\n",
              "    <tr>\n",
              "      <th>Annual_Salary</th>\n",
              "      <td>[Medium High, Low, High, Medium]</td>\n",
              "      <td>object</td>\n",
              "      <td>4</td>\n",
              "    </tr>\n",
              "    <tr>\n",
              "      <th>Gender</th>\n",
              "      <td>[Female, Male, Prefer not to say]</td>\n",
              "      <td>object</td>\n",
              "      <td>3</td>\n",
              "    </tr>\n",
              "    <tr>\n",
              "      <th>Education</th>\n",
              "      <td>[Masters Degree, University Graduate, Highsch...</td>\n",
              "      <td>object</td>\n",
              "      <td>4</td>\n",
              "    </tr>\n",
              "    <tr>\n",
              "      <th>Payment_Method_Credit/Debit</th>\n",
              "      <td>[NO, YES]</td>\n",
              "      <td>object</td>\n",
              "      <td>2</td>\n",
              "    </tr>\n",
              "    <tr>\n",
              "      <th>Living_Region</th>\n",
              "      <td>[Metropolitan, Rural Areas, Suburban Areas]</td>\n",
              "      <td>object</td>\n",
              "      <td>3</td>\n",
              "    </tr>\n",
              "    <tr>\n",
              "      <th>Online_Service_Preference</th>\n",
              "      <td>[NO, YES]</td>\n",
              "      <td>object</td>\n",
              "      <td>2</td>\n",
              "    </tr>\n",
              "    <tr>\n",
              "      <th>AI_Endorsement</th>\n",
              "      <td>[YES, NO]</td>\n",
              "      <td>object</td>\n",
              "      <td>2</td>\n",
              "    </tr>\n",
              "    <tr>\n",
              "      <th>AI_Privacy_No_Trust</th>\n",
              "      <td>[YES, NO]</td>\n",
              "      <td>object</td>\n",
              "      <td>2</td>\n",
              "    </tr>\n",
              "    <tr>\n",
              "      <th>AI_Enhance_Experience</th>\n",
              "      <td>[YES, NO]</td>\n",
              "      <td>object</td>\n",
              "      <td>2</td>\n",
              "    </tr>\n",
              "    <tr>\n",
              "      <th>AI_Satisfication</th>\n",
              "      <td>[Satisfied, Unsatisfied]</td>\n",
              "      <td>object</td>\n",
              "      <td>2</td>\n",
              "    </tr>\n",
              "    <tr>\n",
              "      <th>AI_Tools_Used _Chatbots</th>\n",
              "      <td>[YES, NO]</td>\n",
              "      <td>object</td>\n",
              "      <td>2</td>\n",
              "    </tr>\n",
              "    <tr>\n",
              "      <th>AI_Tools_Used_Virtual_Assistant</th>\n",
              "      <td>[YES, NO]</td>\n",
              "      <td>object</td>\n",
              "      <td>2</td>\n",
              "    </tr>\n",
              "    <tr>\n",
              "      <th>AI_Tools_Used_Voice&amp;Photo_Search</th>\n",
              "      <td>[YES, NO]</td>\n",
              "      <td>object</td>\n",
              "      <td>2</td>\n",
              "    </tr>\n",
              "    <tr>\n",
              "      <th>Payment_Method_COD</th>\n",
              "      <td>[YES, NO]</td>\n",
              "      <td>object</td>\n",
              "      <td>2</td>\n",
              "    </tr>\n",
              "    <tr>\n",
              "      <th>Payment_Method_Ewallet</th>\n",
              "      <td>[NO, YES]</td>\n",
              "      <td>object</td>\n",
              "      <td>2</td>\n",
              "    </tr>\n",
              "    <tr>\n",
              "      <th>Product_Category_Appliances</th>\n",
              "      <td>[YES, NO]</td>\n",
              "      <td>object</td>\n",
              "      <td>2</td>\n",
              "    </tr>\n",
              "    <tr>\n",
              "      <th>Product_Category_Electronics</th>\n",
              "      <td>[YES, NO]</td>\n",
              "      <td>object</td>\n",
              "      <td>2</td>\n",
              "    </tr>\n",
              "    <tr>\n",
              "      <th>Product_Category_Groceries</th>\n",
              "      <td>[YES, NO]</td>\n",
              "      <td>object</td>\n",
              "      <td>2</td>\n",
              "    </tr>\n",
              "    <tr>\n",
              "      <th>Product_Category_Personal_Care</th>\n",
              "      <td>[YES, NO]</td>\n",
              "      <td>object</td>\n",
              "      <td>2</td>\n",
              "    </tr>\n",
              "    <tr>\n",
              "      <th>Product_Category_Clothing</th>\n",
              "      <td>[YES, NO]</td>\n",
              "      <td>object</td>\n",
              "      <td>2</td>\n",
              "    </tr>\n",
              "  </tbody>\n",
              "</table>\n",
              "</div>\n",
              "    <div class=\"colab-df-buttons\">\n",
              "\n",
              "  <div class=\"colab-df-container\">\n",
              "    <button class=\"colab-df-convert\" onclick=\"convertToInteractive('df-51c8128c-7cef-4ab7-a80c-d9fdc1743864')\"\n",
              "            title=\"Convert this dataframe to an interactive table.\"\n",
              "            style=\"display:none;\">\n",
              "\n",
              "  <svg xmlns=\"http://www.w3.org/2000/svg\" height=\"24px\" viewBox=\"0 -960 960 960\">\n",
              "    <path d=\"M120-120v-720h720v720H120Zm60-500h600v-160H180v160Zm220 220h160v-160H400v160Zm0 220h160v-160H400v160ZM180-400h160v-160H180v160Zm440 0h160v-160H620v160ZM180-180h160v-160H180v160Zm440 0h160v-160H620v160Z\"/>\n",
              "  </svg>\n",
              "    </button>\n",
              "\n",
              "  <style>\n",
              "    .colab-df-container {\n",
              "      display:flex;\n",
              "      gap: 12px;\n",
              "    }\n",
              "\n",
              "    .colab-df-convert {\n",
              "      background-color: #E8F0FE;\n",
              "      border: none;\n",
              "      border-radius: 50%;\n",
              "      cursor: pointer;\n",
              "      display: none;\n",
              "      fill: #1967D2;\n",
              "      height: 32px;\n",
              "      padding: 0 0 0 0;\n",
              "      width: 32px;\n",
              "    }\n",
              "\n",
              "    .colab-df-convert:hover {\n",
              "      background-color: #E2EBFA;\n",
              "      box-shadow: 0px 1px 2px rgba(60, 64, 67, 0.3), 0px 1px 3px 1px rgba(60, 64, 67, 0.15);\n",
              "      fill: #174EA6;\n",
              "    }\n",
              "\n",
              "    .colab-df-buttons div {\n",
              "      margin-bottom: 4px;\n",
              "    }\n",
              "\n",
              "    [theme=dark] .colab-df-convert {\n",
              "      background-color: #3B4455;\n",
              "      fill: #D2E3FC;\n",
              "    }\n",
              "\n",
              "    [theme=dark] .colab-df-convert:hover {\n",
              "      background-color: #434B5C;\n",
              "      box-shadow: 0px 1px 3px 1px rgba(0, 0, 0, 0.15);\n",
              "      filter: drop-shadow(0px 1px 2px rgba(0, 0, 0, 0.3));\n",
              "      fill: #FFFFFF;\n",
              "    }\n",
              "  </style>\n",
              "\n",
              "    <script>\n",
              "      const buttonEl =\n",
              "        document.querySelector('#df-51c8128c-7cef-4ab7-a80c-d9fdc1743864 button.colab-df-convert');\n",
              "      buttonEl.style.display =\n",
              "        google.colab.kernel.accessAllowed ? 'block' : 'none';\n",
              "\n",
              "      async function convertToInteractive(key) {\n",
              "        const element = document.querySelector('#df-51c8128c-7cef-4ab7-a80c-d9fdc1743864');\n",
              "        const dataTable =\n",
              "          await google.colab.kernel.invokeFunction('convertToInteractive',\n",
              "                                                    [key], {});\n",
              "        if (!dataTable) return;\n",
              "\n",
              "        const docLinkHtml = 'Like what you see? Visit the ' +\n",
              "          '<a target=\"_blank\" href=https://colab.research.google.com/notebooks/data_table.ipynb>data table notebook</a>'\n",
              "          + ' to learn more about interactive tables.';\n",
              "        element.innerHTML = '';\n",
              "        dataTable['output_type'] = 'display_data';\n",
              "        await google.colab.output.renderOutput(dataTable, element);\n",
              "        const docLink = document.createElement('div');\n",
              "        docLink.innerHTML = docLinkHtml;\n",
              "        element.appendChild(docLink);\n",
              "      }\n",
              "    </script>\n",
              "  </div>\n",
              "\n",
              "\n",
              "<div id=\"df-2c1cd7eb-9175-4810-888c-b9ffb1a70583\">\n",
              "  <button class=\"colab-df-quickchart\" onclick=\"quickchart('df-2c1cd7eb-9175-4810-888c-b9ffb1a70583')\"\n",
              "            title=\"Suggest charts\"\n",
              "            style=\"display:none;\">\n",
              "\n",
              "<svg xmlns=\"http://www.w3.org/2000/svg\" height=\"24px\"viewBox=\"0 0 24 24\"\n",
              "     width=\"24px\">\n",
              "    <g>\n",
              "        <path d=\"M19 3H5c-1.1 0-2 .9-2 2v14c0 1.1.9 2 2 2h14c1.1 0 2-.9 2-2V5c0-1.1-.9-2-2-2zM9 17H7v-7h2v7zm4 0h-2V7h2v10zm4 0h-2v-4h2v4z\"/>\n",
              "    </g>\n",
              "</svg>\n",
              "  </button>\n",
              "\n",
              "<style>\n",
              "  .colab-df-quickchart {\n",
              "      --bg-color: #E8F0FE;\n",
              "      --fill-color: #1967D2;\n",
              "      --hover-bg-color: #E2EBFA;\n",
              "      --hover-fill-color: #174EA6;\n",
              "      --disabled-fill-color: #AAA;\n",
              "      --disabled-bg-color: #DDD;\n",
              "  }\n",
              "\n",
              "  [theme=dark] .colab-df-quickchart {\n",
              "      --bg-color: #3B4455;\n",
              "      --fill-color: #D2E3FC;\n",
              "      --hover-bg-color: #434B5C;\n",
              "      --hover-fill-color: #FFFFFF;\n",
              "      --disabled-bg-color: #3B4455;\n",
              "      --disabled-fill-color: #666;\n",
              "  }\n",
              "\n",
              "  .colab-df-quickchart {\n",
              "    background-color: var(--bg-color);\n",
              "    border: none;\n",
              "    border-radius: 50%;\n",
              "    cursor: pointer;\n",
              "    display: none;\n",
              "    fill: var(--fill-color);\n",
              "    height: 32px;\n",
              "    padding: 0;\n",
              "    width: 32px;\n",
              "  }\n",
              "\n",
              "  .colab-df-quickchart:hover {\n",
              "    background-color: var(--hover-bg-color);\n",
              "    box-shadow: 0 1px 2px rgba(60, 64, 67, 0.3), 0 1px 3px 1px rgba(60, 64, 67, 0.15);\n",
              "    fill: var(--button-hover-fill-color);\n",
              "  }\n",
              "\n",
              "  .colab-df-quickchart-complete:disabled,\n",
              "  .colab-df-quickchart-complete:disabled:hover {\n",
              "    background-color: var(--disabled-bg-color);\n",
              "    fill: var(--disabled-fill-color);\n",
              "    box-shadow: none;\n",
              "  }\n",
              "\n",
              "  .colab-df-spinner {\n",
              "    border: 2px solid var(--fill-color);\n",
              "    border-color: transparent;\n",
              "    border-bottom-color: var(--fill-color);\n",
              "    animation:\n",
              "      spin 1s steps(1) infinite;\n",
              "  }\n",
              "\n",
              "  @keyframes spin {\n",
              "    0% {\n",
              "      border-color: transparent;\n",
              "      border-bottom-color: var(--fill-color);\n",
              "      border-left-color: var(--fill-color);\n",
              "    }\n",
              "    20% {\n",
              "      border-color: transparent;\n",
              "      border-left-color: var(--fill-color);\n",
              "      border-top-color: var(--fill-color);\n",
              "    }\n",
              "    30% {\n",
              "      border-color: transparent;\n",
              "      border-left-color: var(--fill-color);\n",
              "      border-top-color: var(--fill-color);\n",
              "      border-right-color: var(--fill-color);\n",
              "    }\n",
              "    40% {\n",
              "      border-color: transparent;\n",
              "      border-right-color: var(--fill-color);\n",
              "      border-top-color: var(--fill-color);\n",
              "    }\n",
              "    60% {\n",
              "      border-color: transparent;\n",
              "      border-right-color: var(--fill-color);\n",
              "    }\n",
              "    80% {\n",
              "      border-color: transparent;\n",
              "      border-right-color: var(--fill-color);\n",
              "      border-bottom-color: var(--fill-color);\n",
              "    }\n",
              "    90% {\n",
              "      border-color: transparent;\n",
              "      border-bottom-color: var(--fill-color);\n",
              "    }\n",
              "  }\n",
              "</style>\n",
              "\n",
              "  <script>\n",
              "    async function quickchart(key) {\n",
              "      const quickchartButtonEl =\n",
              "        document.querySelector('#' + key + ' button');\n",
              "      quickchartButtonEl.disabled = true;  // To prevent multiple clicks.\n",
              "      quickchartButtonEl.classList.add('colab-df-spinner');\n",
              "      try {\n",
              "        const charts = await google.colab.kernel.invokeFunction(\n",
              "            'suggestCharts', [key], {});\n",
              "      } catch (error) {\n",
              "        console.error('Error during call to suggestCharts:', error);\n",
              "      }\n",
              "      quickchartButtonEl.classList.remove('colab-df-spinner');\n",
              "      quickchartButtonEl.classList.add('colab-df-quickchart-complete');\n",
              "    }\n",
              "    (() => {\n",
              "      let quickchartButtonEl =\n",
              "        document.querySelector('#df-2c1cd7eb-9175-4810-888c-b9ffb1a70583 button');\n",
              "      quickchartButtonEl.style.display =\n",
              "        google.colab.kernel.accessAllowed ? 'block' : 'none';\n",
              "    })();\n",
              "  </script>\n",
              "</div>\n",
              "\n",
              "    </div>\n",
              "  </div>\n"
            ],
            "application/vnd.google.colaboratory.intrinsic+json": {
              "type": "dataframe",
              "summary": "{\n  \"name\": \"uniq(df)\",\n  \"rows\": 23,\n  \"fields\": [\n    {\n      \"column\": \"feature\",\n      \"properties\": {\n        \"dtype\": \"string\",\n        \"num_unique_values\": 23,\n        \"samples\": [\n          \"AI_Tools_Used_Voice&Photo_Search\",\n          \"AI_Endorsement\",\n          \"Country\"\n        ],\n        \"semantic_type\": \"\",\n        \"description\": \"\"\n      }\n    },\n    {\n      \"column\": \"val\",\n      \"properties\": {\n        \"dtype\": \"object\",\n        \"semantic_type\": \"\",\n        \"description\": \"\"\n      }\n    },\n    {\n      \"column\": \"types\",\n      \"properties\": {\n        \"dtype\": \"category\",\n        \"num_unique_values\": 1,\n        \"samples\": [\n          \"object\"\n        ],\n        \"semantic_type\": \"\",\n        \"description\": \"\"\n      }\n    },\n    {\n      \"column\": \"len\",\n      \"properties\": {\n        \"dtype\": \"number\",\n        \"std\": 0,\n        \"min\": 2,\n        \"max\": 4,\n        \"num_unique_values\": 3,\n        \"samples\": [\n          3\n        ],\n        \"semantic_type\": \"\",\n        \"description\": \"\"\n      }\n    }\n  ]\n}"
            }
          },
          "metadata": {},
          "execution_count": 36
        }
      ]
    },
    {
      "cell_type": "code",
      "source": [
        "print(df['Education'].unique())\n"
      ],
      "metadata": {
        "colab": {
          "base_uri": "https://localhost:8080/"
        },
        "id": "JtjWkMgs0UaH",
        "outputId": "84f647de-8f47-4ebe-9eb4-dcbee14c378b"
      },
      "execution_count": 61,
      "outputs": [
        {
          "output_type": "stream",
          "name": "stdout",
          "text": [
            "['Masters\\x92 Degree' 'University Graduate' 'Highschool Graduate'\n",
            " 'Doctorate Degree']\n"
          ]
        }
      ]
    },
    {
      "cell_type": "code",
      "source": [
        "print(df['AI_Satisfication'].unique())\n"
      ],
      "metadata": {
        "colab": {
          "base_uri": "https://localhost:8080/"
        },
        "id": "H38xIAGR1o-P",
        "outputId": "28abb4fb-b967-42be-c2b3-ddcdaf033d7f"
      },
      "execution_count": 66,
      "outputs": [
        {
          "output_type": "stream",
          "name": "stdout",
          "text": [
            "['Satisfied' 'Unsatisfied']\n"
          ]
        }
      ]
    },
    {
      "cell_type": "code",
      "source": [
        "def unique_and_count(df, column_name):\n",
        "\n",
        "  if column_name not in df.columns:\n",
        "    print(f\"Error: Column '{column_name}' not found in DataFrame.\")\n",
        "    return None\n",
        "\n",
        "  unique_values = df[column_name].unique()\n",
        "  value_counts = df[column_name].value_counts()\n",
        "\n",
        "  result = {\n",
        "      'unique_values': unique_values,\n",
        "      'value_counts': value_counts\n",
        "  }\n",
        "\n",
        "  return result\n",
        "\n",
        "unique_and_count(df, 'AI_Satisfication')"
      ],
      "metadata": {
        "id": "1vPgqjnts9lH",
        "colab": {
          "base_uri": "https://localhost:8080/"
        },
        "outputId": "81571c2e-3680-479b-c614-6964db9fc811"
      },
      "execution_count": 37,
      "outputs": [
        {
          "output_type": "execute_result",
          "data": {
            "text/plain": [
              "{'unique_values': array(['Satisfied', 'Unsatisfied'], dtype=object),\n",
              " 'value_counts': AI_Satisfication\n",
              " Satisfied      537\n",
              " Unsatisfied    119\n",
              " Name: count, dtype: int64}"
            ]
          },
          "metadata": {},
          "execution_count": 37
        }
      ]
    },
    {
      "cell_type": "code",
      "source": [
        "# Cramer para mirar asocición entre variables respecto a la objetivo\n",
        "from scipy.stats import chi2_contingency\n",
        "import numpy as np\n",
        "\n",
        "def cramers_v(var1, var2):\n",
        "    crosstab = pd.crosstab(var1, var2)\n",
        "    chi2 = chi2_contingency(crosstab)[0]\n",
        "    n = crosstab.sum().sum()\n",
        "    min_dim = min(crosstab.shape) - 1\n",
        "    return np.sqrt(chi2 / (n * min_dim))\n",
        "\n",
        "# Seleccionar todas las columnas categóricas excepto la variable objetivo\n",
        "target_col = 'AI_Satisfication'\n",
        "categorical_cols = df.select_dtypes(include=['object','int','float']).columns\n",
        "other_cols = [col for col in categorical_cols if col != target_col]\n",
        "\n",
        "# Calcular V de Cramer para cada columna con respecto a AI_Satisfication\n",
        "cramer_scores = {}\n",
        "for col in other_cols:\n",
        "    cramer_scores[col] = cramers_v(df[target_col], df[col])\n",
        "\n",
        "# Convertir a Series y ordenar\n",
        "cramer_results = pd.Series(cramer_scores).sort_values(ascending=False)\n",
        "\n",
        "print(f\"\\nAsociaciones con {target_col} usando V de Cramer:\")\n",
        "print(cramer_results)\n",
        "\n",
        "# V de Cramer: medida estadística evalúa fuerza de asociación entre variables categóricas, basada en estadística chi-cuadrado.\n",
        "# Sus valores van de 0 a 1, donde: 0 significa que no hay asociación, 1 significa una asociación perfecta…\n",
        "# < 0.1: asociación muy débil, 0.1 - 0.3: asociación débil, 0.3 - 0.5: asociación moderada, >0.5: asociación fuerte\n",
        "\n",
        "# La ventaja del V de Cramer es que:\n",
        "# Funciona con variables categóricas de cualquier número de categorías\n",
        "# Es simétrica (el orden de las variables no importa)\n",
        "# Es normalizada (siempre va de 0 a 1)\n",
        "# No asume ninguna distribución específica de los datos"
      ],
      "metadata": {
        "id": "yDjF6RiyuBef",
        "colab": {
          "base_uri": "https://localhost:8080/"
        },
        "outputId": "0fd11823-61b8-4da8-cfaa-df94674eb93b"
      },
      "execution_count": 38,
      "outputs": [
        {
          "output_type": "stream",
          "name": "stdout",
          "text": [
            "\n",
            "Asociaciones con AI_Satisfication usando V de Cramer:\n",
            "AI_Enhance_Experience               0.470118\n",
            "Online_Service_Preference           0.328724\n",
            "Education                           0.206223\n",
            "Country                             0.165051\n",
            "Product_Category_Groceries          0.149070\n",
            "AI_Privacy_No_Trust                 0.138650\n",
            "Age                                 0.130263\n",
            "Product_Category_Clothing           0.130113\n",
            "Payment_Method_Ewallet              0.127730\n",
            "Annual_Salary                       0.114793\n",
            "AI_Endorsement                      0.109133\n",
            "AI_Tools_Used_Voice&Photo_Search    0.088382\n",
            "Living_Region                       0.070235\n",
            "Payment_Method_Credit/Debit         0.053039\n",
            "AI_Tools_Used _Chatbots             0.050676\n",
            "Product_Category_Appliances         0.040994\n",
            "Product_Category_Electronics        0.040592\n",
            "Gender                              0.039655\n",
            "Online_Consumer                     0.037990\n",
            "Product_Category_Personal_Care      0.035949\n",
            "AI_Tools_Used_Virtual_Assistant     0.010940\n",
            "Payment_Method_COD                  0.000000\n",
            "dtype: float64\n"
          ]
        }
      ]
    },
    {
      "cell_type": "code",
      "source": [
        "# No hay nulos, ni outliers, ni corregir valores en variables categóricas, tratar solo duplicados\n",
        "df.drop_duplicates(inplace=True)\n",
        "\n",
        "print(\"\\nValores duplicados después de eliminarlos:\")\n",
        "print(df.duplicated().sum())"
      ],
      "metadata": {
        "id": "ZQ1pvXMmobdI",
        "colab": {
          "base_uri": "https://localhost:8080/"
        },
        "outputId": "14ea5c1d-89ee-48d7-cf02-05fad2daaa51"
      },
      "execution_count": 41,
      "outputs": [
        {
          "output_type": "stream",
          "name": "stdout",
          "text": [
            "\n",
            "Valores duplicados después de eliminarlos:\n",
            "0\n"
          ]
        }
      ]
    },
    {
      "cell_type": "code",
      "source": [
        "# ESTE CÓDIGO SE CORRE LA SEGUNDA VEZ, PRIMERO SE REVISÓ CON TODAS LAS CARACTERÍSTICAS Y LUEGO CON AQUELLAS CON CORRELACIÓN SUPERIOR AL 10%\n",
        "\n",
        "# Define the threshold for correlation\n",
        "threshold = 0.15\n",
        "\n",
        "# Filter the Cramer's V results based on the threshold\n",
        "selected_columns = cramer_results[cramer_results > threshold].index\n",
        "\n",
        "# Select the columns from the DataFrame\n",
        "df_selected = df[selected_columns]\n",
        "df_selected['AI_Satisfication'] = df['AI_Satisfication']\n",
        "\n",
        "# Print or further process the selected columns\n",
        "print(\"\\nSelected columns based on Cramer's V > 0.1:\")\n",
        "print(df_selected)"
      ],
      "metadata": {
        "colab": {
          "base_uri": "https://localhost:8080/"
        },
        "id": "hitzolKcl1Hm",
        "outputId": "9113dee8-1593-466f-f260-4eba0f5088d0"
      },
      "execution_count": 42,
      "outputs": [
        {
          "output_type": "stream",
          "name": "stdout",
          "text": [
            "\n",
            "Selected columns based on Cramer's V > 0.1:\n",
            "    AI_Enhance_Experience Online_Service_Preference            Education  \\\n",
            "0                     YES                        NO      Masters Degree   \n",
            "1                     YES                        NO  University Graduate   \n",
            "2                     YES                       YES  University Graduate   \n",
            "3                     YES                       YES  University Graduate   \n",
            "4                     YES                       YES  University Graduate   \n",
            "..                    ...                       ...                  ...   \n",
            "650                   YES                       YES      Masters Degree   \n",
            "651                   YES                       YES  Highschool Graduate   \n",
            "653                   YES                       YES  University Graduate   \n",
            "654                   YES                        NO  Highschool Graduate   \n",
            "655                   YES                       YES  University Graduate   \n",
            "\n",
            "    Country AI_Satisfication  \n",
            "0     INDIA        Satisfied  \n",
            "1     INDIA        Satisfied  \n",
            "2     INDIA        Satisfied  \n",
            "3     INDIA        Satisfied  \n",
            "4     INDIA        Satisfied  \n",
            "..      ...              ...  \n",
            "650  CANADA        Satisfied  \n",
            "651  CANADA        Satisfied  \n",
            "653  CANADA        Satisfied  \n",
            "654  CANADA        Satisfied  \n",
            "655  CANADA        Satisfied  \n",
            "\n",
            "[648 rows x 5 columns]\n"
          ]
        },
        {
          "output_type": "stream",
          "name": "stderr",
          "text": [
            "<ipython-input-42-d890470fd2c0>:11: SettingWithCopyWarning: \n",
            "A value is trying to be set on a copy of a slice from a DataFrame.\n",
            "Try using .loc[row_indexer,col_indexer] = value instead\n",
            "\n",
            "See the caveats in the documentation: https://pandas.pydata.org/pandas-docs/stable/user_guide/indexing.html#returning-a-view-versus-a-copy\n",
            "  df_selected['AI_Satisfication'] = df['AI_Satisfication']\n"
          ]
        }
      ]
    },
    {
      "cell_type": "code",
      "source": [
        "from sklearn.compose import ColumnTransformer\n",
        "from sklearn.preprocessing import FunctionTransformer\n",
        "from sklearn.preprocessing import LabelEncoder\n",
        "\n",
        "#df_le = df.copy()\n",
        "df_le = df_selected.copy()\n",
        "\n",
        "# Columna a excluir\n",
        "exclude_column = 'AI_Satisfication'\n",
        "\n",
        "# Función para aplicar LabelEncoder\n",
        "def apply_label_encoder(column):\n",
        "    encoder = LabelEncoder()\n",
        "    return encoder.fit_transform(column)\n",
        "\n",
        "# Crear ColumnTransformer\n",
        "transformer = ColumnTransformer(\n",
        "    transformers=[\n",
        "        ('label_encoder', FunctionTransformer(lambda x: x.apply(apply_label_encoder, axis=0)),\n",
        "         [col for col in df_le.columns if col != exclude_column])  # Aplicar a todas menos la excluida\n",
        "    ],\n",
        "    remainder='passthrough'  # Dejar la columna excluida sin modificar\n",
        ")\n",
        "\n",
        "# Aplicar el ColumnTransformer\n",
        "transformed_array = transformer.fit_transform(df_le)\n",
        "\n",
        "# Crear un DataFrame con los nombres originales de las columnas\n",
        "transformed_columns = [col for col in df_le.columns if col != exclude_column] + [exclude_column]\n",
        "df_le_f = pd.DataFrame(transformed_array, columns=transformed_columns)\n",
        "\n",
        "print(df_le_f)"
      ],
      "metadata": {
        "colab": {
          "base_uri": "https://localhost:8080/"
        },
        "id": "Yuj7FMztm0O-",
        "outputId": "86e02973-cc51-4601-d4d9-b7918898545b"
      },
      "execution_count": 43,
      "outputs": [
        {
          "output_type": "stream",
          "name": "stdout",
          "text": [
            "    AI_Enhance_Experience Online_Service_Preference Education Country  \\\n",
            "0                       1                         0         2       2   \n",
            "1                       1                         0         3       2   \n",
            "2                       1                         1         3       2   \n",
            "3                       1                         1         3       2   \n",
            "4                       1                         1         3       2   \n",
            "..                    ...                       ...       ...     ...   \n",
            "643                     1                         1         2       0   \n",
            "644                     1                         1         1       0   \n",
            "645                     1                         1         3       0   \n",
            "646                     1                         0         1       0   \n",
            "647                     1                         1         3       0   \n",
            "\n",
            "    AI_Satisfication  \n",
            "0          Satisfied  \n",
            "1          Satisfied  \n",
            "2          Satisfied  \n",
            "3          Satisfied  \n",
            "4          Satisfied  \n",
            "..               ...  \n",
            "643        Satisfied  \n",
            "644        Satisfied  \n",
            "645        Satisfied  \n",
            "646        Satisfied  \n",
            "647        Satisfied  \n",
            "\n",
            "[648 rows x 5 columns]\n"
          ]
        }
      ]
    },
    {
      "cell_type": "code",
      "source": [
        "from sklearn.compose import ColumnTransformer\n",
        "from sklearn.preprocessing import FunctionTransformer\n",
        "from sklearn.preprocessing import LabelEncoder\n",
        "from sklearn.pipeline import Pipeline\n",
        "\n",
        "#df_le = df.copy()\n",
        "df_le = df_selected.copy()\n",
        "\n",
        "# Columna a excluir\n",
        "exclude_column = 'AI_Satisfication'\n",
        "\n",
        "# Función para aplicar LabelEncoder\n",
        "def apply_label_encoder(column):\n",
        "    encoder = LabelEncoder()\n",
        "    return encoder.fit_transform(column)\n",
        "\n",
        "# Crear el ColumnTransformer\n",
        "transformer = ColumnTransformer(\n",
        "    transformers=[\n",
        "        ('label_encoder', FunctionTransformer(lambda x: x.apply(apply_label_encoder, axis=0)),\n",
        "         [col for col in df_le.columns if col != exclude_column])  # Aplicar a todas menos la excluida\n",
        "    ],\n",
        "    remainder='passthrough'  # Dejar la columna excluida sin modificar\n",
        ")\n",
        "\n",
        "# Crear un pipeline\n",
        "pipeline = Pipeline([\n",
        "    ('preprocessor', transformer)  # Paso de preprocesamiento\n",
        "])\n",
        "\n",
        "# Ajustar y transformar los datos\n",
        "transformed_array = pipeline.fit_transform(df_le)\n",
        "\n",
        "# Crear un DataFrame con los nombres originales de las columnas\n",
        "transformed_columns = [col for col in df_le.columns if col != exclude_column] + [exclude_column]\n",
        "df_le_f = pd.DataFrame(transformed_array, columns=transformed_columns)\n",
        "\n",
        "print(df_le_f)\n"
      ],
      "metadata": {
        "colab": {
          "base_uri": "https://localhost:8080/"
        },
        "id": "LKdmweNWj-wB",
        "outputId": "83c10311-36ba-4fc5-c042-43b549b832c0"
      },
      "execution_count": 44,
      "outputs": [
        {
          "output_type": "stream",
          "name": "stdout",
          "text": [
            "    AI_Enhance_Experience Online_Service_Preference Education Country  \\\n",
            "0                       1                         0         2       2   \n",
            "1                       1                         0         3       2   \n",
            "2                       1                         1         3       2   \n",
            "3                       1                         1         3       2   \n",
            "4                       1                         1         3       2   \n",
            "..                    ...                       ...       ...     ...   \n",
            "643                     1                         1         2       0   \n",
            "644                     1                         1         1       0   \n",
            "645                     1                         1         3       0   \n",
            "646                     1                         0         1       0   \n",
            "647                     1                         1         3       0   \n",
            "\n",
            "    AI_Satisfication  \n",
            "0          Satisfied  \n",
            "1          Satisfied  \n",
            "2          Satisfied  \n",
            "3          Satisfied  \n",
            "4          Satisfied  \n",
            "..               ...  \n",
            "643        Satisfied  \n",
            "644        Satisfied  \n",
            "645        Satisfied  \n",
            "646        Satisfied  \n",
            "647        Satisfied  \n",
            "\n",
            "[648 rows x 5 columns]\n"
          ]
        }
      ]
    },
    {
      "cell_type": "code",
      "source": [
        "from sklearn.preprocessing import LabelEncoder\n",
        "from sklearn.model_selection import train_test_split, cross_val_score\n",
        "from sklearn.linear_model import LogisticRegression\n",
        "from sklearn.metrics import accuracy_score, precision_score, recall_score, f1_score, roc_auc_score, confusion_matrix\n",
        "import matplotlib.pyplot as plt\n",
        "import seaborn as sns\n",
        "\n",
        "# Asumimos que ya hemos aplicado LabelEncoder o OneHotEncoder y preprocesado los datos\n",
        "X = df_le_f.drop(columns='AI_Satisfication')  # Variables predictoras\n",
        "y = df_le_f['AI_Satisfication']  # Variable dependiente\n",
        "\n",
        "# Codificar las etiquetas categóricas de y\n",
        "label_encoder = LabelEncoder()\n",
        "y_encoded = label_encoder.fit_transform(y)\n",
        "\n",
        "# Separar en conjunto de entrenamiento y conjunto de prueba\n",
        "X_train, X_test, y_train, y_test = train_test_split(X, y_encoded, test_size=0.2, random_state=42)\n",
        "\n",
        "# Modelos a entrenar\n",
        "models = [\n",
        "    ('Logistic Regression', LogisticRegression(max_iter=200,class_weight='balanced', random_state=42))\n",
        "]\n",
        "\n",
        "# Función para plotear matriz de confusión\n",
        "def plot_confusion_matrix(conf_matrix, title):\n",
        "    plt.figure(figsize=(8, 6))\n",
        "    sns.heatmap(conf_matrix, annot=True, fmt='d', cmap='Blues',\n",
        "                xticklabels=['No Satisfecho', 'Satisfecho'],\n",
        "                yticklabels=['No Satisfecho', 'Satisfecho'])\n",
        "    plt.title(f'Matriz de Confusión - {title}')\n",
        "    plt.ylabel('Valor Real')\n",
        "    plt.xlabel('Predicción')\n",
        "    plt.show()\n",
        "\n",
        "# Evaluar los modelos\n",
        "results = []\n",
        "for name, model in models:\n",
        "    # Realizar validación cruzada\n",
        "    cv_scores = cross_val_score(model, X_train, y_train, cv=5, scoring='accuracy')\n",
        "\n",
        "    # Entrenar el modelo en el conjunto completo de entrenamiento\n",
        "    model.fit(X_train, y_train)\n",
        "\n",
        "    # Predecir en el conjunto de prueba\n",
        "    y_pred = model.predict(X_test)\n",
        "\n",
        "    # Calcular las métricas\n",
        "    accuracy = accuracy_score(y_test, y_pred)\n",
        "    accuracy_cv = cv_scores.mean()\n",
        "    precision = precision_score(y_test, y_pred, average='binary')\n",
        "    recall = recall_score(y_test, y_pred, average='binary')\n",
        "    f1 = f1_score(y_test, y_pred, average='binary')\n",
        "    roc_auc = roc_auc_score(y_test, model.predict_proba(X_test)[:, 1])\n",
        "\n",
        "    # Calcular y mostrar matriz de confusión\n",
        "    conf_matrix = confusion_matrix(y_test, y_pred)\n",
        "    plot_confusion_matrix(conf_matrix, name)\n",
        "\n",
        "    # Imprimir valores de la matriz de confusión\n",
        "    tn, fp, fn, tp = confusion_matrix(y_test, y_pred).ravel()\n",
        "    print(f\"\\nResultados detallados para {name}:\")\n",
        "    print(f\"Verdaderos Negativos (TN): {tn}\")\n",
        "    print(f\"Falsos Positivos (FP): {fp}\")\n",
        "    print(f\"Falsos Negativos (FN): {fn}\")\n",
        "    print(f\"Verdaderos Positivos (TP): {tp}\")\n",
        "\n",
        "    # Almacenar resultados\n",
        "    results.append((name, accuracy, accuracy_cv, precision, recall, f1, roc_auc))\n",
        "\n",
        "# Crear DataFrame con los resultados\n",
        "results_df_le = pd.DataFrame(results, columns=['Model', 'Accuracy', 'Cross-Validation Accuracy',\n",
        "                                             'Precision', 'Recall', 'F1-Score', 'ROC-AUC'])\n",
        "\n",
        "# Mostrar los resultados generales\n",
        "print(\"\\nResumen de métricas para todos los modelos:\")\n",
        "print(results_df_le)"
      ],
      "metadata": {
        "colab": {
          "base_uri": "https://localhost:8080/",
          "height": 805
        },
        "id": "G7a1eIFctqg_",
        "outputId": "f27b07c8-02e9-4312-a0d1-662e92c3097b"
      },
      "execution_count": 45,
      "outputs": [
        {
          "output_type": "display_data",
          "data": {
            "text/plain": [
              "<Figure size 800x600 with 2 Axes>"
            ],
            "image/png": "[encoded data removed]"
          },
          "metadata": {}
        },
        {
          "output_type": "stream",
          "name": "stdout",
          "text": [
            "\n",
            "Resultados detallados para Logistic Regression:\n",
            "Verdaderos Negativos (TN): 85\n",
            "Falsos Positivos (FP): 14\n",
            "Falsos Negativos (FN): 5\n",
            "Verdaderos Positivos (TP): 26\n",
            "\n",
            "Resumen de métricas para todos los modelos:\n",
            "                 Model  Accuracy  Cross-Validation Accuracy  Precision  \\\n",
            "0  Logistic Regression  0.853846                   0.787435       0.65   \n",
            "\n",
            "    Recall  F1-Score   ROC-AUC  \n",
            "0  0.83871  0.732394  0.850114  \n"
          ]
        }
      ]
    },
    {
      "cell_type": "code",
      "source": [
        "print(type(results_df_le))"
      ],
      "metadata": {
        "colab": {
          "base_uri": "https://localhost:8080/"
        },
        "id": "FfLkRA511cnf",
        "outputId": "7ef2b9e1-73a8-4fcd-a446-34c98b62c932"
      },
      "execution_count": 46,
      "outputs": [
        {
          "output_type": "stream",
          "name": "stdout",
          "text": [
            "<class 'pandas.core.frame.DataFrame'>\n"
          ]
        }
      ]
    },
    {
      "cell_type": "code",
      "source": [
        "# Select the metrics to plot\n",
        "metrics = ['Accuracy', 'Precision', 'Recall', 'F1-Score', 'ROC-AUC']\n",
        "\n",
        "# Create the bar plot\n",
        "ax = results_df_le.plot(x='Model', y=metrics, kind='bar', figsize=(10, 6))\n",
        "\n",
        "# Customize the plot\n",
        "plt.title('Model Performance Metrics')\n",
        "plt.xlabel('Model')\n",
        "plt.ylabel('Score')\n",
        "plt.xticks(rotation=45, ha='right')  # Rotate x-axis labels for better readability\n",
        "plt.legend(title='Metrics')\n",
        "plt.tight_layout()  # Adjust layout to prevent labels from overlapping\n",
        "\n",
        "plt.show()\n"
      ],
      "metadata": {
        "colab": {
          "base_uri": "https://localhost:8080/",
          "height": 607
        },
        "id": "wbQZ6N8cyVnw",
        "outputId": "0956b717-96ce-4708-cc39-71c247ecf95d"
      },
      "execution_count": 50,
      "outputs": [
        {
          "output_type": "display_data",
          "data": {
            "text/plain": [
              "<Figure size 1000x600 with 1 Axes>"
            ],
            "image/png": "[encoded data removed]"
          },
          "metadata": {}
        }
      ]
    },
    {
      "cell_type": "code",
      "source": [
        "!pip install optuna"
      ],
      "metadata": {
        "colab": {
          "base_uri": "https://localhost:8080/"
        },
        "id": "-6paKVZ31LTm",
        "outputId": "e3c5160c-be78-4c43-915f-31f637024fe7"
      },
      "execution_count": 55,
      "outputs": [
        {
          "output_type": "stream",
          "name": "stdout",
          "text": [
            "Requirement already satisfied: optuna in /usr/local/lib/python3.11/dist-packages (4.2.1)\n",
            "Requirement already satisfied: alembic>=1.5.0 in /usr/local/lib/python3.11/dist-packages (from optuna) (1.14.1)\n",
            "Requirement already satisfied: colorlog in /usr/local/lib/python3.11/dist-packages (from optuna) (6.9.0)\n",
            "Requirement already satisfied: numpy in /usr/local/lib/python3.11/dist-packages (from optuna) (1.26.4)\n",
            "Requirement already satisfied: packaging>=20.0 in /usr/local/lib/python3.11/dist-packages (from optuna) (24.2)\n",
            "Requirement already satisfied: sqlalchemy>=1.4.2 in /usr/local/lib/python3.11/dist-packages (from optuna) (2.0.38)\n",
            "Requirement already satisfied: tqdm in /usr/local/lib/python3.11/dist-packages (from optuna) (4.67.1)\n",
            "Requirement already satisfied: PyYAML in /usr/local/lib/python3.11/dist-packages (from optuna) (6.0.2)\n",
            "Requirement already satisfied: Mako in /usr/local/lib/python3.11/dist-packages (from alembic>=1.5.0->optuna) (1.3.9)\n",
            "Requirement already satisfied: typing-extensions>=4 in /usr/local/lib/python3.11/dist-packages (from alembic>=1.5.0->optuna) (4.12.2)\n",
            "Requirement already satisfied: greenlet!=0.4.17 in /usr/local/lib/python3.11/dist-packages (from sqlalchemy>=1.4.2->optuna) (3.1.1)\n",
            "Requirement already satisfied: MarkupSafe>=0.9.2 in /usr/local/lib/python3.11/dist-packages (from Mako->alembic>=1.5.0->optuna) (3.0.2)\n"
          ]
        }
      ]
    },
    {
      "cell_type": "code",
      "source": [
        "!pip install --quiet optuna"
      ],
      "metadata": {
        "id": "mzq1uwYW1M-6"
      },
      "execution_count": 56,
      "outputs": []
    },
    {
      "cell_type": "code",
      "source": [
        "import optuna\n",
        "from sklearn.metrics import f1_score\n",
        "from sklearn.model_selection import cross_val_score\n",
        "\n",
        "def objective(trial):\n",
        "    # Definir el espacio de búsqueda\n",
        "    params = {\n",
        "        'C': trial.suggest_float('C', 1e-4, 1e2, log=True),\n",
        "        'penalty': trial.suggest_categorical('penalty', ['l1', 'l2']),\n",
        "        'solver': trial.suggest_categorical('solver', ['liblinear', 'saga']),\n",
        "        'max_iter': trial.suggest_int('max_iter', 200, 1000),\n",
        "        'class_weight': trial.suggest_categorical('class_weight', ['balanced', None])\n",
        "    }\n",
        "\n",
        "    # Crear y entrenar el modelo\n",
        "    model = LogisticRegression(**params)\n",
        "\n",
        "    # Usar validación cruzada para evaluar\n",
        "    scores = cross_val_score(model, X_train, y_train, cv=5, scoring='f1')\n",
        "\n",
        "    return scores.mean()\n",
        "\n",
        "# Crear el estudio de Optuna\n",
        "study = optuna.create_study(direction='maximize')\n",
        "study.optimize(objective, n_trials=100)\n",
        "\n",
        "# Obtener los mejores parámetros\n",
        "best_params = study.best_params\n",
        "print(\"Mejores parámetros encontrados:\")\n",
        "print(best_params)\n",
        "print(\"\\nMejor puntuación:\", study.best_value)\n",
        "\n",
        "# Entrenar el modelo final con los mejores parámetros\n",
        "final_model = LogisticRegression(**best_params)\n",
        "final_model.fit(X_train, y_train)\n",
        "\n",
        "# Evaluar en el conjunto de prueba\n",
        "y_pred_optuna = final_model.predict(X_test)\n",
        "print(\"\\nRendimiento en conjunto de prueba:\")\n",
        "print(f\"F1 Score: {f1_score(y_test, y_pred_optuna)}\")"
      ],
      "metadata": {
        "id": "-xgfl0a2l5ZO",
        "colab": {
          "base_uri": "https://localhost:8080/"
        },
        "outputId": "adb934f5-f571-455a-9a38-a3d062427d44"
      },
      "execution_count": 57,
      "outputs": [
        {
          "output_type": "stream",
          "name": "stderr",
          "text": [
            "[I 2025-02-17 16:43:43,754] A new study created in memory with name: no-name-ca6f0343-7187-4e2c-9c8c-c932c04810df\n",
            "[I 2025-02-17 16:43:43,817] Trial 0 finished with value: 0.0 and parameters: {'C': 0.003137026666353108, 'penalty': 'l2', 'solver': 'liblinear', 'max_iter': 653, 'class_weight': None}. Best is trial 0 with value: 0.0.\n",
            "[I 2025-02-17 16:43:43,860] Trial 1 finished with value: 0.0 and parameters: {'C': 0.0002860263020857062, 'penalty': 'l2', 'solver': 'saga', 'max_iter': 357, 'class_weight': None}. Best is trial 0 with value: 0.0.\n",
            "[I 2025-02-17 16:43:43,905] Trial 2 finished with value: 0.0 and parameters: {'C': 0.003422733083418417, 'penalty': 'l1', 'solver': 'liblinear', 'max_iter': 739, 'class_weight': None}. Best is trial 0 with value: 0.0.\n",
            "[I 2025-02-17 16:43:43,974] Trial 3 finished with value: 0.41294581280788184 and parameters: {'C': 1.9716507169630286, 'penalty': 'l1', 'solver': 'liblinear', 'max_iter': 970, 'class_weight': None}. Best is trial 3 with value: 0.41294581280788184.\n",
            "[I 2025-02-17 16:43:44,040] Trial 4 finished with value: 0.551919776919777 and parameters: {'C': 0.13627681820423174, 'penalty': 'l1', 'solver': 'liblinear', 'max_iter': 478, 'class_weight': 'balanced'}. Best is trial 4 with value: 0.551919776919777.\n",
            "[I 2025-02-17 16:43:44,109] Trial 5 finished with value: 0.41294581280788184 and parameters: {'C': 18.727415807684718, 'penalty': 'l2', 'solver': 'liblinear', 'max_iter': 450, 'class_weight': None}. Best is trial 4 with value: 0.551919776919777.\n",
            "[I 2025-02-17 16:43:44,154] Trial 6 finished with value: 0.17234972677595628 and parameters: {'C': 0.004208049231855028, 'penalty': 'l1', 'solver': 'saga', 'max_iter': 285, 'class_weight': 'balanced'}. Best is trial 4 with value: 0.551919776919777.\n",
            "[I 2025-02-17 16:43:44,225] Trial 7 finished with value: 0.0 and parameters: {'C': 0.0048874182627624725, 'penalty': 'l2', 'solver': 'saga', 'max_iter': 505, 'class_weight': None}. Best is trial 4 with value: 0.551919776919777.\n",
            "[I 2025-02-17 16:43:44,292] Trial 8 finished with value: 0.40972742200328405 and parameters: {'C': 24.195257087790903, 'penalty': 'l1', 'solver': 'liblinear', 'max_iter': 458, 'class_weight': None}. Best is trial 4 with value: 0.551919776919777.\n",
            "[I 2025-02-17 16:43:44,364] Trial 9 finished with value: 0.0 and parameters: {'C': 0.0005436227427855292, 'penalty': 'l1', 'solver': 'saga', 'max_iter': 974, 'class_weight': None}. Best is trial 4 with value: 0.551919776919777.\n",
            "[I 2025-02-17 16:43:44,449] Trial 10 finished with value: 0.551919776919777 and parameters: {'C': 0.1765850409731436, 'penalty': 'l1', 'solver': 'liblinear', 'max_iter': 768, 'class_weight': 'balanced'}. Best is trial 4 with value: 0.551919776919777.\n",
            "[I 2025-02-17 16:43:44,536] Trial 11 finished with value: 0.5584752934752935 and parameters: {'C': 0.22452696337728034, 'penalty': 'l1', 'solver': 'liblinear', 'max_iter': 829, 'class_weight': 'balanced'}. Best is trial 11 with value: 0.5584752934752935.\n",
            "[I 2025-02-17 16:43:44,630] Trial 12 finished with value: 0.5546224796224797 and parameters: {'C': 0.1320690628639299, 'penalty': 'l1', 'solver': 'liblinear', 'max_iter': 818, 'class_weight': 'balanced'}. Best is trial 11 with value: 0.5584752934752935.\n",
            "[I 2025-02-17 16:43:44,693] Trial 13 finished with value: 0.5473157735047597 and parameters: {'C': 0.9403646950784051, 'penalty': 'l1', 'solver': 'liblinear', 'max_iter': 824, 'class_weight': 'balanced'}. Best is trial 11 with value: 0.5584752934752935.\n",
            "[I 2025-02-17 16:43:44,761] Trial 14 finished with value: 0.0 and parameters: {'C': 0.037847061582919575, 'penalty': 'l1', 'solver': 'liblinear', 'max_iter': 862, 'class_weight': 'balanced'}. Best is trial 11 with value: 0.5584752934752935.\n",
            "[I 2025-02-17 16:43:44,849] Trial 15 finished with value: 0.5473157735047597 and parameters: {'C': 1.8112654052315715, 'penalty': 'l1', 'solver': 'liblinear', 'max_iter': 614, 'class_weight': 'balanced'}. Best is trial 11 with value: 0.5584752934752935.\n",
            "[I 2025-02-17 16:43:44,937] Trial 16 finished with value: 0.0 and parameters: {'C': 0.03314544836426966, 'penalty': 'l1', 'solver': 'liblinear', 'max_iter': 907, 'class_weight': 'balanced'}. Best is trial 11 with value: 0.5584752934752935.\n",
            "[I 2025-02-17 16:43:45,045] Trial 17 finished with value: 0.5501592851592851 and parameters: {'C': 0.5606315595966604, 'penalty': 'l1', 'solver': 'liblinear', 'max_iter': 704, 'class_weight': 'balanced'}. Best is trial 11 with value: 0.5584752934752935.\n",
            "[I 2025-02-17 16:43:45,206] Trial 18 finished with value: 0.5436572369193939 and parameters: {'C': 5.991356583453652, 'penalty': 'l2', 'solver': 'saga', 'max_iter': 790, 'class_weight': 'balanced'}. Best is trial 11 with value: 0.5584752934752935.\n",
            "[I 2025-02-17 16:43:45,354] Trial 19 finished with value: 0.5436572369193939 and parameters: {'C': 93.16224420256, 'penalty': 'l1', 'solver': 'liblinear', 'max_iter': 899, 'class_weight': 'balanced'}. Best is trial 11 with value: 0.5584752934752935.\n",
            "[I 2025-02-17 16:43:45,454] Trial 20 finished with value: 0.0 and parameters: {'C': 0.0238598499615242, 'penalty': 'l1', 'solver': 'liblinear', 'max_iter': 560, 'class_weight': 'balanced'}. Best is trial 11 with value: 0.5584752934752935.\n",
            "[I 2025-02-17 16:43:45,552] Trial 21 finished with value: 0.5493593217277428 and parameters: {'C': 0.19562971002842044, 'penalty': 'l1', 'solver': 'liblinear', 'max_iter': 681, 'class_weight': 'balanced'}. Best is trial 11 with value: 0.5584752934752935.\n",
            "[I 2025-02-17 16:43:45,653] Trial 22 finished with value: 0.5501592851592851 and parameters: {'C': 0.31326944253100536, 'penalty': 'l1', 'solver': 'liblinear', 'max_iter': 380, 'class_weight': 'balanced'}. Best is trial 11 with value: 0.5584752934752935.\n",
            "[I 2025-02-17 16:43:45,754] Trial 23 finished with value: 0.5530930930930931 and parameters: {'C': 0.0734373024775692, 'penalty': 'l1', 'solver': 'liblinear', 'max_iter': 558, 'class_weight': 'balanced'}. Best is trial 11 with value: 0.5584752934752935.\n",
            "[I 2025-02-17 16:43:45,844] Trial 24 finished with value: 0.29841860465116277 and parameters: {'C': 0.051700429825747234, 'penalty': 'l1', 'solver': 'liblinear', 'max_iter': 567, 'class_weight': 'balanced'}. Best is trial 11 with value: 0.5584752934752935.\n",
            "[I 2025-02-17 16:43:45,976] Trial 25 finished with value: 0.0 and parameters: {'C': 0.012543318768455115, 'penalty': 'l1', 'solver': 'liblinear', 'max_iter': 630, 'class_weight': 'balanced'}. Best is trial 11 with value: 0.5584752934752935.\n",
            "[I 2025-02-17 16:43:46,104] Trial 26 finished with value: 0.5298914110866008 and parameters: {'C': 0.06501108461887209, 'penalty': 'l2', 'solver': 'saga', 'max_iter': 836, 'class_weight': 'balanced'}. Best is trial 11 with value: 0.5584752934752935.\n",
            "[I 2025-02-17 16:43:46,214] Trial 27 finished with value: 0.0 and parameters: {'C': 0.0010321805049351542, 'penalty': 'l1', 'solver': 'liblinear', 'max_iter': 219, 'class_weight': 'balanced'}. Best is trial 11 with value: 0.5584752934752935.\n",
            "[I 2025-02-17 16:43:46,324] Trial 28 finished with value: 0.0 and parameters: {'C': 0.00010355858829494566, 'penalty': 'l1', 'solver': 'liblinear', 'max_iter': 927, 'class_weight': 'balanced'}. Best is trial 11 with value: 0.5584752934752935.\n",
            "[I 2025-02-17 16:43:46,465] Trial 29 finished with value: 0.5005601924956763 and parameters: {'C': 0.011797374549441018, 'penalty': 'l2', 'solver': 'liblinear', 'max_iter': 718, 'class_weight': 'balanced'}. Best is trial 11 with value: 0.5584752934752935.\n",
            "[I 2025-02-17 16:43:46,616] Trial 30 finished with value: 0.5501592851592851 and parameters: {'C': 0.511632212930291, 'penalty': 'l1', 'solver': 'liblinear', 'max_iter': 532, 'class_weight': 'balanced'}. Best is trial 11 with value: 0.5584752934752935.\n",
            "[I 2025-02-17 16:43:46,744] Trial 31 finished with value: 0.5618447018447018 and parameters: {'C': 0.10841384011904326, 'penalty': 'l1', 'solver': 'liblinear', 'max_iter': 459, 'class_weight': 'balanced'}. Best is trial 31 with value: 0.5618447018447018.\n",
            "[I 2025-02-17 16:43:46,891] Trial 32 finished with value: 0.5618447018447018 and parameters: {'C': 0.10201452921405102, 'penalty': 'l1', 'solver': 'liblinear', 'max_iter': 417, 'class_weight': 'balanced'}. Best is trial 31 with value: 0.5618447018447018.\n",
            "[I 2025-02-17 16:43:47,050] Trial 33 finished with value: 0.5473157735047597 and parameters: {'C': 1.4779942369337, 'penalty': 'l1', 'solver': 'liblinear', 'max_iter': 411, 'class_weight': 'balanced'}. Best is trial 31 with value: 0.5618447018447018.\n",
            "[I 2025-02-17 16:43:47,159] Trial 34 finished with value: 0.0 and parameters: {'C': 0.012555303766639908, 'penalty': 'l1', 'solver': 'liblinear', 'max_iter': 331, 'class_weight': 'balanced'}. Best is trial 31 with value: 0.5618447018447018.\n",
            "[I 2025-02-17 16:43:47,309] Trial 35 finished with value: 0.5436572369193939 and parameters: {'C': 3.976687725908283, 'penalty': 'l1', 'solver': 'liblinear', 'max_iter': 314, 'class_weight': 'balanced'}. Best is trial 31 with value: 0.5618447018447018.\n",
            "[I 2025-02-17 16:43:47,405] Trial 36 finished with value: 0.37166907166907165 and parameters: {'C': 0.25663322282777296, 'penalty': 'l2', 'solver': 'saga', 'max_iter': 408, 'class_weight': None}. Best is trial 31 with value: 0.5618447018447018.\n",
            "[I 2025-02-17 16:43:47,531] Trial 37 finished with value: 0.5618447018447018 and parameters: {'C': 0.10710516316794055, 'penalty': 'l1', 'solver': 'liblinear', 'max_iter': 265, 'class_weight': 'balanced'}. Best is trial 31 with value: 0.5618447018447018.\n",
            "[I 2025-02-17 16:43:47,663] Trial 38 finished with value: 0.39494179894179887 and parameters: {'C': 0.5835528078716072, 'penalty': 'l1', 'solver': 'liblinear', 'max_iter': 254, 'class_weight': None}. Best is trial 31 with value: 0.5618447018447018.\n",
            "[I 2025-02-17 16:43:47,836] Trial 39 finished with value: 0.5129994380790115 and parameters: {'C': 0.10866738819333234, 'penalty': 'l2', 'solver': 'saga', 'max_iter': 354, 'class_weight': 'balanced'}. Best is trial 31 with value: 0.5618447018447018.\n",
            "[I 2025-02-17 16:43:48,024] Trial 40 finished with value: 0.0 and parameters: {'C': 0.0014297332523673936, 'penalty': 'l1', 'solver': 'liblinear', 'max_iter': 202, 'class_weight': None}. Best is trial 31 with value: 0.5618447018447018.\n",
            "[I 2025-02-17 16:43:48,184] Trial 41 finished with value: 0.551919776919777 and parameters: {'C': 0.13332137678246958, 'penalty': 'l1', 'solver': 'liblinear', 'max_iter': 481, 'class_weight': 'balanced'}. Best is trial 31 with value: 0.5618447018447018.\n",
            "[I 2025-02-17 16:43:48,321] Trial 42 finished with value: 0.5501592851592851 and parameters: {'C': 0.34013913749479713, 'penalty': 'l1', 'solver': 'liblinear', 'max_iter': 281, 'class_weight': 'balanced'}. Best is trial 31 with value: 0.5618447018447018.\n",
            "[I 2025-02-17 16:43:48,415] Trial 43 finished with value: 0.0 and parameters: {'C': 0.018957735104282097, 'penalty': 'l1', 'solver': 'liblinear', 'max_iter': 755, 'class_weight': 'balanced'}. Best is trial 31 with value: 0.5618447018447018.\n",
            "[I 2025-02-17 16:43:48,626] Trial 44 finished with value: 0.0 and parameters: {'C': 0.007044667599885967, 'penalty': 'l1', 'solver': 'liblinear', 'max_iter': 424, 'class_weight': 'balanced'}. Best is trial 31 with value: 0.5618447018447018.\n",
            "[I 2025-02-17 16:43:48,780] Trial 45 finished with value: 0.5618447018447018 and parameters: {'C': 0.0934125396572741, 'penalty': 'l1', 'solver': 'liblinear', 'max_iter': 502, 'class_weight': 'balanced'}. Best is trial 31 with value: 0.5618447018447018.\n",
            "[I 2025-02-17 16:43:48,882] Trial 46 finished with value: 0.5618447018447018 and parameters: {'C': 0.07682950309010952, 'penalty': 'l1', 'solver': 'liblinear', 'max_iter': 503, 'class_weight': 'balanced'}. Best is trial 31 with value: 0.5618447018447018.\n",
            "[I 2025-02-17 16:43:49,032] Trial 47 finished with value: 0.0 and parameters: {'C': 0.06131225020201977, 'penalty': 'l1', 'solver': 'saga', 'max_iter': 482, 'class_weight': None}. Best is trial 31 with value: 0.5618447018447018.\n",
            "[I 2025-02-17 16:43:49,176] Trial 48 finished with value: 0.0 and parameters: {'C': 0.02536469700103761, 'penalty': 'l1', 'solver': 'liblinear', 'max_iter': 519, 'class_weight': 'balanced'}. Best is trial 31 with value: 0.5618447018447018.\n",
            "[I 2025-02-17 16:43:49,378] Trial 49 finished with value: 0.5473157735047597 and parameters: {'C': 0.898613619052178, 'penalty': 'l1', 'solver': 'liblinear', 'max_iter': 431, 'class_weight': 'balanced'}. Best is trial 31 with value: 0.5618447018447018.\n",
            "[I 2025-02-17 16:43:49,526] Trial 50 finished with value: 0.10105263157894737 and parameters: {'C': 0.0029799812086613265, 'penalty': 'l2', 'solver': 'liblinear', 'max_iter': 378, 'class_weight': 'balanced'}. Best is trial 31 with value: 0.5618447018447018.\n",
            "[I 2025-02-17 16:43:49,680] Trial 51 finished with value: 0.5618447018447018 and parameters: {'C': 0.10068070733869859, 'penalty': 'l1', 'solver': 'liblinear', 'max_iter': 465, 'class_weight': 'balanced'}. Best is trial 31 with value: 0.5618447018447018.\n",
            "[I 2025-02-17 16:43:49,781] Trial 52 finished with value: 0.5546224796224797 and parameters: {'C': 0.12507994083374713, 'penalty': 'l1', 'solver': 'liblinear', 'max_iter': 453, 'class_weight': 'balanced'}. Best is trial 31 with value: 0.5618447018447018.\n",
            "[I 2025-02-17 16:43:49,918] Trial 53 finished with value: 0.5618447018447018 and parameters: {'C': 0.08850476009210012, 'penalty': 'l1', 'solver': 'liblinear', 'max_iter': 508, 'class_weight': 'balanced'}. Best is trial 31 with value: 0.5618447018447018.\n",
            "[I 2025-02-17 16:43:50,041] Trial 54 finished with value: 0.29841860465116277 and parameters: {'C': 0.05147119630864437, 'penalty': 'l1', 'solver': 'liblinear', 'max_iter': 605, 'class_weight': 'balanced'}. Best is trial 31 with value: 0.5618447018447018.\n",
            "[I 2025-02-17 16:43:50,153] Trial 55 finished with value: 0.0 and parameters: {'C': 0.034781838555774096, 'penalty': 'l1', 'solver': 'liblinear', 'max_iter': 468, 'class_weight': 'balanced'}. Best is trial 31 with value: 0.5618447018447018.\n",
            "[I 2025-02-17 16:43:50,337] Trial 56 finished with value: 0.5501592851592851 and parameters: {'C': 0.3713174286322856, 'penalty': 'l1', 'solver': 'liblinear', 'max_iter': 532, 'class_weight': 'balanced'}. Best is trial 31 with value: 0.5618447018447018.\n",
            "[I 2025-02-17 16:43:50,666] Trial 57 finished with value: 0.08327485380116958 and parameters: {'C': 0.19786847716579514, 'penalty': 'l1', 'solver': 'liblinear', 'max_iter': 648, 'class_weight': None}. Best is trial 31 with value: 0.5618447018447018.\n",
            "[I 2025-02-17 16:43:51,008] Trial 58 finished with value: 0.5473157735047597 and parameters: {'C': 1.0439686633809764, 'penalty': 'l1', 'solver': 'liblinear', 'max_iter': 364, 'class_weight': 'balanced'}. Best is trial 31 with value: 0.5618447018447018.\n",
            "[I 2025-02-17 16:43:51,158] Trial 59 finished with value: 0.11568306010928961 and parameters: {'C': 0.0177418560233577, 'penalty': 'l1', 'solver': 'saga', 'max_iter': 591, 'class_weight': 'balanced'}. Best is trial 31 with value: 0.5618447018447018.\n",
            "[I 2025-02-17 16:43:51,338] Trial 60 finished with value: 0.0 and parameters: {'C': 0.006793109649903895, 'penalty': 'l1', 'solver': 'liblinear', 'max_iter': 492, 'class_weight': 'balanced'}. Best is trial 31 with value: 0.5618447018447018.\n",
            "[I 2025-02-17 16:43:51,611] Trial 61 finished with value: 0.5618447018447018 and parameters: {'C': 0.08626455145250767, 'penalty': 'l1', 'solver': 'liblinear', 'max_iter': 509, 'class_weight': 'balanced'}. Best is trial 31 with value: 0.5618447018447018.\n",
            "[I 2025-02-17 16:43:51,820] Trial 62 finished with value: 0.0 and parameters: {'C': 0.04099189327218262, 'penalty': 'l1', 'solver': 'liblinear', 'max_iter': 443, 'class_weight': 'balanced'}. Best is trial 31 with value: 0.5618447018447018.\n",
            "[I 2025-02-17 16:43:51,939] Trial 63 finished with value: 0.5618447018447018 and parameters: {'C': 0.09744312728863427, 'penalty': 'l1', 'solver': 'liblinear', 'max_iter': 394, 'class_weight': 'balanced'}. Best is trial 31 with value: 0.5618447018447018.\n",
            "[I 2025-02-17 16:43:52,227] Trial 64 finished with value: 0.551919776919777 and parameters: {'C': 0.1731717120606334, 'penalty': 'l1', 'solver': 'liblinear', 'max_iter': 555, 'class_weight': 'balanced'}. Best is trial 31 with value: 0.5618447018447018.\n",
            "[I 2025-02-17 16:43:52,453] Trial 65 finished with value: 0.5618447018447018 and parameters: {'C': 0.08227890538019247, 'penalty': 'l1', 'solver': 'liblinear', 'max_iter': 579, 'class_weight': 'balanced'}. Best is trial 31 with value: 0.5618447018447018.\n",
            "[I 2025-02-17 16:43:52,631] Trial 66 finished with value: 0.5501592851592851 and parameters: {'C': 0.4560830051767027, 'penalty': 'l1', 'solver': 'liblinear', 'max_iter': 537, 'class_weight': 'balanced'}. Best is trial 31 with value: 0.5618447018447018.\n",
            "[I 2025-02-17 16:43:52,836] Trial 67 finished with value: 0.0 and parameters: {'C': 0.032910891977678665, 'penalty': 'l1', 'solver': 'liblinear', 'max_iter': 500, 'class_weight': 'balanced'}. Best is trial 31 with value: 0.5618447018447018.\n",
            "[I 2025-02-17 16:43:53,072] Trial 68 finished with value: 0.5427527151211361 and parameters: {'C': 0.24868189872603416, 'penalty': 'l2', 'solver': 'liblinear', 'max_iter': 460, 'class_weight': 'balanced'}. Best is trial 31 with value: 0.5618447018447018.\n",
            "[I 2025-02-17 16:43:53,320] Trial 69 finished with value: 0.551919776919777 and parameters: {'C': 0.1750741912566264, 'penalty': 'l1', 'solver': 'liblinear', 'max_iter': 342, 'class_weight': 'balanced'}. Best is trial 31 with value: 0.5618447018447018.\n",
            "[I 2025-02-17 16:43:53,471] Trial 70 finished with value: 0.5408969894264013 and parameters: {'C': 0.056486736089216984, 'penalty': 'l1', 'solver': 'saga', 'max_iter': 307, 'class_weight': 'balanced'}. Best is trial 31 with value: 0.5618447018447018.\n",
            "[I 2025-02-17 16:43:53,638] Trial 71 finished with value: 0.5618447018447018 and parameters: {'C': 0.09684298737507203, 'penalty': 'l1', 'solver': 'liblinear', 'max_iter': 513, 'class_weight': 'balanced'}. Best is trial 31 with value: 0.5618447018447018.\n",
            "[I 2025-02-17 16:43:53,781] Trial 72 finished with value: 0.5618447018447018 and parameters: {'C': 0.08359507403513057, 'penalty': 'l1', 'solver': 'liblinear', 'max_iter': 505, 'class_weight': 'balanced'}. Best is trial 31 with value: 0.5618447018447018.\n",
            "[I 2025-02-17 16:43:53,952] Trial 73 finished with value: 0.551919776919777 and parameters: {'C': 0.13652674672734685, 'penalty': 'l1', 'solver': 'liblinear', 'max_iter': 432, 'class_weight': 'balanced'}. Best is trial 31 with value: 0.5618447018447018.\n",
            "[I 2025-02-17 16:43:54,042] Trial 74 finished with value: 0.0 and parameters: {'C': 0.02258727383952644, 'penalty': 'l1', 'solver': 'liblinear', 'max_iter': 541, 'class_weight': 'balanced'}. Best is trial 31 with value: 0.5618447018447018.\n",
            "[I 2025-02-17 16:43:54,222] Trial 75 finished with value: 0.0 and parameters: {'C': 0.04101050758970864, 'penalty': 'l1', 'solver': 'liblinear', 'max_iter': 469, 'class_weight': 'balanced'}. Best is trial 31 with value: 0.5618447018447018.\n",
            "[I 2025-02-17 16:43:54,385] Trial 76 finished with value: 0.3429304029304029 and parameters: {'C': 0.26403799250185633, 'penalty': 'l1', 'solver': 'liblinear', 'max_iter': 1000, 'class_weight': None}. Best is trial 31 with value: 0.5618447018447018.\n",
            "[I 2025-02-17 16:43:54,509] Trial 77 finished with value: 0.42784935550126846 and parameters: {'C': 0.06119464689752225, 'penalty': 'l1', 'solver': 'liblinear', 'max_iter': 392, 'class_weight': 'balanced'}. Best is trial 31 with value: 0.5618447018447018.\n",
            "[I 2025-02-17 16:43:54,640] Trial 78 finished with value: 0.539107496554305 and parameters: {'C': 0.15274785375252395, 'penalty': 'l2', 'solver': 'liblinear', 'max_iter': 620, 'class_weight': 'balanced'}. Best is trial 31 with value: 0.5618447018447018.\n",
            "[I 2025-02-17 16:43:54,738] Trial 79 finished with value: 0.0 and parameters: {'C': 0.01539479535998149, 'penalty': 'l1', 'solver': 'liblinear', 'max_iter': 239, 'class_weight': 'balanced'}. Best is trial 31 with value: 0.5618447018447018.\n",
            "[I 2025-02-17 16:43:54,846] Trial 80 finished with value: 0.0 and parameters: {'C': 0.028166377735629522, 'penalty': 'l1', 'solver': 'liblinear', 'max_iter': 414, 'class_weight': 'balanced'}. Best is trial 31 with value: 0.5618447018447018.\n",
            "[I 2025-02-17 16:43:54,992] Trial 81 finished with value: 0.5618447018447018 and parameters: {'C': 0.10558257515422964, 'penalty': 'l1', 'solver': 'liblinear', 'max_iter': 397, 'class_weight': 'balanced'}. Best is trial 31 with value: 0.5618447018447018.\n",
            "[I 2025-02-17 16:43:55,127] Trial 82 finished with value: 0.5618447018447018 and parameters: {'C': 0.08235024559432028, 'penalty': 'l1', 'solver': 'liblinear', 'max_iter': 488, 'class_weight': 'balanced'}. Best is trial 31 with value: 0.5618447018447018.\n",
            "[I 2025-02-17 16:43:55,302] Trial 83 finished with value: 0.19556146179401995 and parameters: {'C': 0.04848606270314683, 'penalty': 'l1', 'solver': 'liblinear', 'max_iter': 438, 'class_weight': 'balanced'}. Best is trial 31 with value: 0.5618447018447018.\n",
            "[I 2025-02-17 16:43:55,469] Trial 84 finished with value: 0.5463131313131313 and parameters: {'C': 0.6816381709775466, 'penalty': 'l1', 'solver': 'liblinear', 'max_iter': 378, 'class_weight': 'balanced'}. Best is trial 31 with value: 0.5618447018447018.\n",
            "[I 2025-02-17 16:43:55,715] Trial 85 finished with value: 0.5501592851592851 and parameters: {'C': 0.3083410121364111, 'penalty': 'l1', 'solver': 'liblinear', 'max_iter': 517, 'class_weight': 'balanced'}. Best is trial 31 with value: 0.5618447018447018.\n",
            "[I 2025-02-17 16:43:55,850] Trial 86 finished with value: 0.5546224796224797 and parameters: {'C': 0.11107637912270468, 'penalty': 'l1', 'solver': 'liblinear', 'max_iter': 290, 'class_weight': 'balanced'}. Best is trial 31 with value: 0.5618447018447018.\n",
            "[I 2025-02-17 16:43:55,996] Trial 87 finished with value: 0.0 and parameters: {'C': 0.07376767902262961, 'penalty': 'l1', 'solver': 'saga', 'max_iter': 449, 'class_weight': None}. Best is trial 31 with value: 0.5618447018447018.\n",
            "[I 2025-02-17 16:43:56,103] Trial 88 finished with value: 0.5584752934752935 and parameters: {'C': 0.23299893791072757, 'penalty': 'l1', 'solver': 'liblinear', 'max_iter': 577, 'class_weight': 'balanced'}. Best is trial 31 with value: 0.5618447018447018.\n",
            "[I 2025-02-17 16:43:56,222] Trial 89 finished with value: 0.551919776919777 and parameters: {'C': 0.15971930476341406, 'penalty': 'l1', 'solver': 'liblinear', 'max_iter': 480, 'class_weight': 'balanced'}. Best is trial 31 with value: 0.5618447018447018.\n",
            "[I 2025-02-17 16:43:56,381] Trial 90 finished with value: 0.5211325414986742 and parameters: {'C': 0.04332932527324665, 'penalty': 'l2', 'solver': 'liblinear', 'max_iter': 552, 'class_weight': 'balanced'}. Best is trial 31 with value: 0.5618447018447018.\n",
            "[I 2025-02-17 16:43:56,576] Trial 91 finished with value: 0.5618447018447018 and parameters: {'C': 0.08429705055557388, 'penalty': 'l1', 'solver': 'liblinear', 'max_iter': 577, 'class_weight': 'balanced'}. Best is trial 31 with value: 0.5618447018447018.\n",
            "[I 2025-02-17 16:43:56,675] Trial 92 finished with value: 0.5501592851592851 and parameters: {'C': 0.3756593566884823, 'penalty': 'l1', 'solver': 'liblinear', 'max_iter': 520, 'class_weight': 'balanced'}. Best is trial 31 with value: 0.5618447018447018.\n",
            "[I 2025-02-17 16:43:56,835] Trial 93 finished with value: 0.5618447018447018 and parameters: {'C': 0.10498167118825731, 'penalty': 'l1', 'solver': 'liblinear', 'max_iter': 591, 'class_weight': 'balanced'}. Best is trial 31 with value: 0.5618447018447018.\n",
            "[I 2025-02-17 16:43:56,941] Trial 94 finished with value: 0.47158879158879163 and parameters: {'C': 0.06432199688237916, 'penalty': 'l1', 'solver': 'liblinear', 'max_iter': 679, 'class_weight': 'balanced'}. Best is trial 31 with value: 0.5618447018447018.\n",
            "[I 2025-02-17 16:43:57,056] Trial 95 finished with value: 0.0 and parameters: {'C': 0.02881734899691912, 'penalty': 'l1', 'solver': 'liblinear', 'max_iter': 500, 'class_weight': 'balanced'}. Best is trial 31 with value: 0.5618447018447018.\n",
            "[I 2025-02-17 16:43:57,168] Trial 96 finished with value: 0.5493593217277428 and parameters: {'C': 0.19623502396842954, 'penalty': 'l1', 'solver': 'liblinear', 'max_iter': 467, 'class_weight': 'balanced'}. Best is trial 31 with value: 0.5618447018447018.\n",
            "[I 2025-02-17 16:43:57,455] Trial 97 finished with value: 0.5546224796224797 and parameters: {'C': 0.12367406854182711, 'penalty': 'l1', 'solver': 'liblinear', 'max_iter': 422, 'class_weight': 'balanced'}. Best is trial 31 with value: 0.5618447018447018.\n",
            "[I 2025-02-17 16:43:57,609] Trial 98 finished with value: 0.5618447018447018 and parameters: {'C': 0.07797357701709991, 'penalty': 'l1', 'solver': 'liblinear', 'max_iter': 361, 'class_weight': 'balanced'}. Best is trial 31 with value: 0.5618447018447018.\n",
            "[I 2025-02-17 16:43:57,719] Trial 99 finished with value: 0.5436572369193939 and parameters: {'C': 26.486543231061802, 'penalty': 'l1', 'solver': 'saga', 'max_iter': 638, 'class_weight': 'balanced'}. Best is trial 31 with value: 0.5618447018447018.\n"
          ]
        },
        {
          "output_type": "stream",
          "name": "stdout",
          "text": [
            "Mejores parámetros encontrados:\n",
            "{'C': 0.10841384011904326, 'penalty': 'l1', 'solver': 'liblinear', 'max_iter': 459, 'class_weight': 'balanced'}\n",
            "\n",
            "Mejor puntuación: 0.5618447018447018\n",
            "\n",
            "Rendimiento en conjunto de prueba:\n",
            "F1 Score: 0.6865671641791045\n"
          ]
        }
      ]
    },
    {
      "cell_type": "code",
      "source": [
        "from sklearn.metrics import classification_report\n",
        "\n",
        "# Crear diccionario con todos los modelos\n",
        "models = {\n",
        "    'Original': LogisticRegression().fit(X_train, y_train),\n",
        "    'Optuna': final_model\n",
        "}\n",
        "\n",
        "# Comparar resultados\n",
        "results_comparison = []\n",
        "\n",
        "for name, model in models.items():\n",
        "    # Predecir\n",
        "    y_pred = model.predict(X_test)\n",
        "\n",
        "    # Calcular métricas\n",
        "    accuracy = accuracy_score(y_test, y_pred)\n",
        "    precision = precision_score(y_test, y_pred)\n",
        "    recall = recall_score(y_test, y_pred)\n",
        "    f1 = f1_score(y_test, y_pred)\n",
        "\n",
        "    results_comparison.append({\n",
        "        'Model': name,\n",
        "        'Accuracy': accuracy,\n",
        "        'Precision': precision,\n",
        "        'Recall': recall,\n",
        "        'F1-Score': f1\n",
        "    })\n",
        "\n",
        "# Crear DataFrame con resultados\n",
        "comparison_df = pd.DataFrame(results_comparison)\n",
        "print(\"Comparación de modelos:\")\n",
        "print(comparison_df)\n",
        "\n",
        "# Mostrar reporte detallado para el mejor modelo\n",
        "best_model_name = comparison_df.loc[comparison_df['F1-Score'].idxmax(), 'Model']\n",
        "best_model = models[best_model_name]\n",
        "y_pred_best = best_model.predict(X_test)\n",
        "\n",
        "print(f\"\\nReporte detallado del mejor modelo ({best_model_name}):\")\n",
        "print(classification_report(y_test, y_pred_best))"
      ],
      "metadata": {
        "id": "w2uBYh_yl5Rn",
        "colab": {
          "base_uri": "https://localhost:8080/"
        },
        "outputId": "89409d58-fcbd-4302-fe30-6c224bab4dd7"
      },
      "execution_count": 58,
      "outputs": [
        {
          "output_type": "stream",
          "name": "stdout",
          "text": [
            "Comparación de modelos:\n",
            "      Model  Accuracy  Precision    Recall  F1-Score\n",
            "0  Original  0.830769   0.736842  0.451613  0.560000\n",
            "1    Optuna  0.838462   0.638889  0.741935  0.686567\n",
            "\n",
            "Reporte detallado del mejor modelo (Optuna):\n",
            "              precision    recall  f1-score   support\n",
            "\n",
            "           0       0.91      0.87      0.89        99\n",
            "           1       0.64      0.74      0.69        31\n",
            "\n",
            "    accuracy                           0.84       130\n",
            "   macro avg       0.78      0.81      0.79       130\n",
            "weighted avg       0.85      0.84      0.84       130\n",
            "\n"
          ]
        }
      ]
    },
    {
      "cell_type": "code",
      "source": [
        "best_model = final_model"
      ],
      "metadata": {
        "id": "NmaJ52UIy23F"
      },
      "execution_count": 63,
      "outputs": []
    },
    {
      "cell_type": "code",
      "source": [
        "import joblib\n",
        "\n",
        "# Guarda tu mejor modelo\n",
        "joblib.dump(best_model, 'best_model.pkl')\n",
        "\n",
        "# Descarga el archivo desde Colab a tu computadora\n",
        "from google.colab import files\n",
        "files.download('best_model.pkl')"
      ],
      "metadata": {
        "colab": {
          "base_uri": "https://localhost:8080/",
          "height": 17
        },
        "id": "YUPTfxdAvkQ7",
        "outputId": "6364bc75-3e6c-40c5-a3c0-8411c698a4b8"
      },
      "execution_count": 64,
      "outputs": [
        {
          "output_type": "display_data",
          "data": {
            "text/plain": [
              "<IPython.core.display.Javascript object>"
            ],
            "application/javascript": [
              "\n",
              "    async function download(id, filename, size) {\n",
              "      if (!google.colab.kernel.accessAllowed) {\n",
              "        return;\n",
              "      }\n",
              "      const div = document.createElement('div');\n",
              "      const label = document.createElement('label');\n",
              "      label.textContent = `Downloading \"${filename}\": `;\n",
              "      div.appendChild(label);\n",
              "      const progress = document.createElement('progress');\n",
              "      progress.max = size;\n",
              "      div.appendChild(progress);\n",
              "      document.body.appendChild(div);\n",
              "\n",
              "      const buffers = [];\n",
              "      let downloaded = 0;\n",
              "\n",
              "      const channel = await google.colab.kernel.comms.open(id);\n",
              "      // Send a message to notify the kernel that we're ready.\n",
              "      channel.send({})\n",
              "\n",
              "      for await (const message of channel.messages) {\n",
              "        // Send a message to notify the kernel that we're ready.\n",
              "        channel.send({})\n",
              "        if (message.buffers) {\n",
              "          for (const buffer of message.buffers) {\n",
              "            buffers.push(buffer);\n",
              "            downloaded += buffer.byteLength;\n",
              "            progress.value = downloaded;\n",
              "          }\n",
              "        }\n",
              "      }\n",
              "      const blob = new Blob(buffers, {type: 'application/binary'});\n",
              "      const a = document.createElement('a');\n",
              "      a.href = window.URL.createObjectURL(blob);\n",
              "      a.download = filename;\n",
              "      div.appendChild(a);\n",
              "      a.click();\n",
              "      div.remove();\n",
              "    }\n",
              "  "
            ]
          },
          "metadata": {}
        },
        {
          "output_type": "display_data",
          "data": {
            "text/plain": [
              "<IPython.core.display.Javascript object>"
            ],
            "application/javascript": [
              "download(\"download_8b9519fc-edcf-463a-a1cf-0579adfd2fa7\", \"best_model.pkl\", 1307)"
            ]
          },
          "metadata": {}
        }
      ]
    },
    {
      "cell_type": "code",
      "source": [
        "!pip install gradio"
      ],
      "metadata": {
        "colab": {
          "base_uri": "https://localhost:8080/"
        },
        "id": "jLqRtRZp2oVe",
        "outputId": "cd4f0690-e515-4114-9c3d-2bba0a017a51"
      },
      "execution_count": 1,
      "outputs": [
        {
          "output_type": "stream",
          "name": "stdout",
          "text": [
            "Requirement already satisfied: gradio in /usr/local/lib/python3.11/dist-packages (5.16.0)\n",
            "Requirement already satisfied: aiofiles<24.0,>=22.0 in /usr/local/lib/python3.11/dist-packages (from gradio) (23.2.1)\n",
            "Requirement already satisfied: anyio<5.0,>=3.0 in /usr/local/lib/python3.11/dist-packages (from gradio) (3.7.1)\n",
            "Requirement already satisfied: fastapi<1.0,>=0.115.2 in /usr/local/lib/python3.11/dist-packages (from gradio) (0.115.8)\n",
            "Requirement already satisfied: ffmpy in /usr/local/lib/python3.11/dist-packages (from gradio) (0.5.0)\n",
            "Requirement already satisfied: gradio-client==1.7.0 in /usr/local/lib/python3.11/dist-packages (from gradio) (1.7.0)\n",
            "Requirement already satisfied: httpx>=0.24.1 in /usr/local/lib/python3.11/dist-packages (from gradio) (0.28.1)\n",
            "Requirement already satisfied: huggingface-hub>=0.28.1 in /usr/local/lib/python3.11/dist-packages (from gradio) (0.28.1)\n",
            "Requirement already satisfied: jinja2<4.0 in /usr/local/lib/python3.11/dist-packages (from gradio) (3.1.5)\n",
            "Requirement already satisfied: markupsafe~=2.0 in /usr/local/lib/python3.11/dist-packages (from gradio) (2.1.5)\n",
            "Requirement already satisfied: numpy<3.0,>=1.0 in /usr/local/lib/python3.11/dist-packages (from gradio) (1.26.4)\n",
            "Requirement already satisfied: orjson~=3.0 in /usr/local/lib/python3.11/dist-packages (from gradio) (3.10.15)\n",
            "Requirement already satisfied: packaging in /usr/local/lib/python3.11/dist-packages (from gradio) (24.2)\n",
            "Requirement already satisfied: pandas<3.0,>=1.0 in /usr/local/lib/python3.11/dist-packages (from gradio) (2.2.2)\n",
            "Requirement already satisfied: pillow<12.0,>=8.0 in /usr/local/lib/python3.11/dist-packages (from gradio) (11.1.0)\n",
            "Requirement already satisfied: pydantic>=2.0 in /usr/local/lib/python3.11/dist-packages (from gradio) (2.10.6)\n",
            "Requirement already satisfied: pydub in /usr/local/lib/python3.11/dist-packages (from gradio) (0.25.1)\n",
            "Requirement already satisfied: python-multipart>=0.0.18 in /usr/local/lib/python3.11/dist-packages (from gradio) (0.0.20)\n",
            "Requirement already satisfied: pyyaml<7.0,>=5.0 in /usr/local/lib/python3.11/dist-packages (from gradio) (6.0.2)\n",
            "Requirement already satisfied: ruff>=0.9.3 in /usr/local/lib/python3.11/dist-packages (from gradio) (0.9.6)\n",
            "Requirement already satisfied: safehttpx<0.2.0,>=0.1.6 in /usr/local/lib/python3.11/dist-packages (from gradio) (0.1.6)\n",
            "Requirement already satisfied: semantic-version~=2.0 in /usr/local/lib/python3.11/dist-packages (from gradio) (2.10.0)\n",
            "Requirement already satisfied: starlette<1.0,>=0.40.0 in /usr/local/lib/python3.11/dist-packages (from gradio) (0.45.3)\n",
            "Requirement already satisfied: tomlkit<0.14.0,>=0.12.0 in /usr/local/lib/python3.11/dist-packages (from gradio) (0.13.2)\n",
            "Requirement already satisfied: typer<1.0,>=0.12 in /usr/local/lib/python3.11/dist-packages (from gradio) (0.15.1)\n",
            "Requirement already satisfied: typing-extensions~=4.0 in /usr/local/lib/python3.11/dist-packages (from gradio) (4.12.2)\n",
            "Requirement already satisfied: uvicorn>=0.14.0 in /usr/local/lib/python3.11/dist-packages (from gradio) (0.34.0)\n",
            "Requirement already satisfied: fsspec in /usr/local/lib/python3.11/dist-packages (from gradio-client==1.7.0->gradio) (2024.10.0)\n",
            "Requirement already satisfied: websockets<15.0,>=10.0 in /usr/local/lib/python3.11/dist-packages (from gradio-client==1.7.0->gradio) (14.2)\n",
            "Requirement already satisfied: idna>=2.8 in /usr/local/lib/python3.11/dist-packages (from anyio<5.0,>=3.0->gradio) (3.10)\n",
            "Requirement already satisfied: sniffio>=1.1 in /usr/local/lib/python3.11/dist-packages (from anyio<5.0,>=3.0->gradio) (1.3.1)\n",
            "Requirement already satisfied: certifi in /usr/local/lib/python3.11/dist-packages (from httpx>=0.24.1->gradio) (2025.1.31)\n",
            "Requirement already satisfied: httpcore==1.* in /usr/local/lib/python3.11/dist-packages (from httpx>=0.24.1->gradio) (1.0.7)\n",
            "Requirement already satisfied: h11<0.15,>=0.13 in /usr/local/lib/python3.11/dist-packages (from httpcore==1.*->httpx>=0.24.1->gradio) (0.14.0)\n",
            "Requirement already satisfied: filelock in /usr/local/lib/python3.11/dist-packages (from huggingface-hub>=0.28.1->gradio) (3.17.0)\n",
            "Requirement already satisfied: requests in /usr/local/lib/python3.11/dist-packages (from huggingface-hub>=0.28.1->gradio) (2.32.3)\n",
            "Requirement already satisfied: tqdm>=4.42.1 in /usr/local/lib/python3.11/dist-packages (from huggingface-hub>=0.28.1->gradio) (4.67.1)\n",
            "Requirement already satisfied: python-dateutil>=2.8.2 in /usr/local/lib/python3.11/dist-packages (from pandas<3.0,>=1.0->gradio) (2.8.2)\n",
            "Requirement already satisfied: pytz>=2020.1 in /usr/local/lib/python3.11/dist-packages (from pandas<3.0,>=1.0->gradio) (2025.1)\n",
            "Requirement already satisfied: tzdata>=2022.7 in /usr/local/lib/python3.11/dist-packages (from pandas<3.0,>=1.0->gradio) (2025.1)\n",
            "Requirement already satisfied: annotated-types>=0.6.0 in /usr/local/lib/python3.11/dist-packages (from pydantic>=2.0->gradio) (0.7.0)\n",
            "Requirement already satisfied: pydantic-core==2.27.2 in /usr/local/lib/python3.11/dist-packages (from pydantic>=2.0->gradio) (2.27.2)\n",
            "Requirement already satisfied: click>=8.0.0 in /usr/local/lib/python3.11/dist-packages (from typer<1.0,>=0.12->gradio) (8.1.8)\n",
            "Requirement already satisfied: shellingham>=1.3.0 in /usr/local/lib/python3.11/dist-packages (from typer<1.0,>=0.12->gradio) (1.5.4)\n",
            "Requirement already satisfied: rich>=10.11.0 in /usr/local/lib/python3.11/dist-packages (from typer<1.0,>=0.12->gradio) (13.9.4)\n",
            "Requirement already satisfied: six>=1.5 in /usr/local/lib/python3.11/dist-packages (from python-dateutil>=2.8.2->pandas<3.0,>=1.0->gradio) (1.17.0)\n",
            "Requirement already satisfied: markdown-it-py>=2.2.0 in /usr/local/lib/python3.11/dist-packages (from rich>=10.11.0->typer<1.0,>=0.12->gradio) (3.0.0)\n",
            "Requirement already satisfied: pygments<3.0.0,>=2.13.0 in /usr/local/lib/python3.11/dist-packages (from rich>=10.11.0->typer<1.0,>=0.12->gradio) (2.18.0)\n",
            "Requirement already satisfied: charset-normalizer<4,>=2 in /usr/local/lib/python3.11/dist-packages (from requests->huggingface-hub>=0.28.1->gradio) (3.4.1)\n",
            "Requirement already satisfied: urllib3<3,>=1.21.1 in /usr/local/lib/python3.11/dist-packages (from requests->huggingface-hub>=0.28.1->gradio) (2.3.0)\n",
            "Requirement already satisfied: mdurl~=0.1 in /usr/local/lib/python3.11/dist-packages (from markdown-it-py>=2.2.0->rich>=10.11.0->typer<1.0,>=0.12->gradio) (0.1.2)\n"
          ]
        }
      ]
    },
    {
      "cell_type": "code",
      "source": [
        "\n"
      ],
      "metadata": {
        "id": "zvFgUdtuA-hm"
      },
      "execution_count": null,
      "outputs": []
    },
    {
      "cell_type": "code",
      "source": [
        "import gradio as gr\n",
        "import joblib\n",
        "import numpy as np\n",
        "\n",
        "# Cargar el modelo\n",
        "modelo_path = \"best_model.pkl\"\n",
        "modelo = joblib.load(modelo_path)\n",
        "\n",
        "# Opciones para los inputs\n",
        "opciones_ai = [\"YES\", \"NO\"]\n",
        "opciones_online = [\"YES\", \"NO\"]\n",
        "opciones_education = [\"Masters’ Degree\", \"University Graduate\", \"Highschool Graduate\", \"Doctorate Degree\"]\n",
        "opciones_country = [\"INDIA\", \"CHINA\", \"CANADA\"]\n",
        "\n",
        "# Mapeo de categorías a números (si el modelo lo requiere)\n",
        "def preprocess_input(ai_exp, online_pref, education, country):\n",
        "    mapping = {\n",
        "        \"YES\": 1, \"NO\": 0,\n",
        "        \"Masters’ Degree\": 0, \"University Graduate\": 1, \"Highschool Graduate\": 2, \"Doctorate Degree\": 3,\n",
        "        \"INDIA\": 0, \"CHINA\": 1, \"CANADA\": 2\n",
        "    }\n",
        "    return np.array([[mapping[ai_exp], mapping[online_pref], mapping[education], mapping[country]]])\n",
        "\n",
        "# Función de predicción\n",
        "def predecir_satisfaccion(ai_exp, online_pref, education, country):\n",
        "    entrada = preprocess_input(ai_exp, online_pref, education, country)\n",
        "    prediccion = modelo.predict(entrada)[0]  # 0 = Unsatisfied, 1 = Satisfied\n",
        "    return \"Satisfied\" if prediccion == 1 else \"Unsatisfied\"\n",
        "\n",
        "# Crear interfaz en Gradio\n",
        "iface = gr.Interface(\n",
        "    fn=predecir_satisfaccion,\n",
        "    inputs=[\n",
        "        gr.Dropdown(choices=opciones_ai, label=\"AI Enhance Experience\"),\n",
        "        gr.Dropdown(choices=opciones_online, label=\"Online Service Preference\"),\n",
        "        gr.Dropdown(choices=opciones_education, label=\"Education\"),\n",
        "        gr.Dropdown(choices=opciones_country, label=\"Country\"),\n",
        "    ],\n",
        "    outputs=gr.Textbox(label=\"Predicted Satisfaction\"),\n",
        "    title=\"AI Satisfaction Prediction\",\n",
        "    description=\"Select the user attributes to predict their AI satisfaction level.\"\n",
        ")\n",
        "\n",
        "# Ejecutar la interfaz\n",
        "iface.launch()"
      ],
      "metadata": {
        "colab": {
          "base_uri": "https://localhost:8080/",
          "height": 633
        },
        "id": "f-_R9Vla0pQy",
        "outputId": "011e10f1-c87f-4387-9d58-4dca1dd75c05"
      },
      "execution_count": 7,
      "outputs": [
        {
          "output_type": "stream",
          "name": "stdout",
          "text": [
            "Running Gradio in a Colab notebook requires sharing enabled. Automatically setting `share=True` (you can turn this off by setting `share=False` in `launch()` explicitly).\n",
            "\n",
            "Colab notebook detected. To show errors in colab notebook, set debug=True in launch()\n",
            "* Running on public URL: https://4c2ee4cf54a11cbb50.gradio.live\n",
            "\n",
            "This share link expires in 72 hours. For free permanent hosting and GPU upgrades, run `gradio deploy` from the terminal in the working directory to deploy to Hugging Face Spaces (https://huggingface.co/spaces)\n"
          ]
        },
        {
          "output_type": "display_data",
          "data": {
            "text/plain": [
              "<IPython.core.display.HTML object>"
            ],
            "text/html": [
              "<div><iframe src=\"https://4c2ee4cf54a11cbb50.gradio.live\" width=\"100%\" height=\"500\" allow=\"autoplay; camera; microphone; clipboard-read; clipboard-write;\" frameborder=\"0\" allowfullscreen></iframe></div>"
            ]
          },
          "metadata": {}
        },
        {
          "output_type": "execute_result",
          "data": {
            "text/plain": []
          },
          "metadata": {},
          "execution_count": 7
        }
      ]
    },
    {
      "cell_type": "code",
      "source": [
        "from google.colab import files\n",
        "\n",
        "codigo = \"\"\"import gradio as gr\n",
        "import joblib\n",
        "import numpy as np\n",
        "\n",
        "# Cargar el modelo\n",
        "modelo_path = \"best_model.pkl\"\n",
        "modelo = joblib.load(modelo_path)\n",
        "\n",
        "# Opciones para los inputs\n",
        "opciones_ai = [\"YES\", \"NO\"]\n",
        "opciones_online = [\"YES\", \"NO\"]\n",
        "opciones_education = [\"Masters’ Degree\", \"University Graduate\", \"Highschool Graduate\", \"Doctorate Degree\"]\n",
        "opciones_country = [\"INDIA\", \"CHINA\", \"CANADA\"]\n",
        "\n",
        "# Mapeo de categorías a números (si el modelo lo requiere)\n",
        "def preprocess_input(ai_exp, online_pref, education, country):\n",
        "    mapping = {\n",
        "        \"YES\": 1, \"NO\": 0,\n",
        "        \"Masters’ Degree\": 0, \"University Graduate\": 1, \"Highschool Graduate\": 2, \"Doctorate Degree\": 3,\n",
        "        \"INDIA\": 0, \"CHINA\": 1, \"CANADA\": 2\n",
        "    }\n",
        "    return np.array([[mapping[ai_exp], mapping[online_pref], mapping[education], mapping[country]]])\n",
        "\n",
        "# Función de predicción\n",
        "def predecir_satisfaccion(ai_exp, online_pref, education, country):\n",
        "    entrada = preprocess_input(ai_exp, online_pref, education, country)\n",
        "    prediccion = modelo.predict(entrada)[0]  # 0 = Unsatisfied, 1 = Satisfied\n",
        "    return \"Satisfied\" if prediccion == 1 else \"Unsatisfied\"\n",
        "\n",
        "# Crear interfaz en Gradio\n",
        "iface = gr.Interface(\n",
        "    fn=predecir_satisfaccion,\n",
        "    inputs=[\n",
        "        gr.Dropdown(choices=opciones_ai, label=\"AI Enhance Experience\"),\n",
        "        gr.Dropdown(choices=opciones_online, label=\"Online Service Preference\"),\n",
        "        gr.Dropdown(choices=opciones_education, label=\"Education\"),\n",
        "        gr.Dropdown(choices=opciones_country, label=\"Country\"),\n",
        "    ],\n",
        "    outputs=gr.Textbox(label=\"Predicted Satisfaction\"),\n",
        "    title=\"AI Satisfaction Prediction\",\n",
        "    description=\"Select the user attributes to predict their AI satisfaction level.\"\n",
        ")\n",
        "\n",
        "# Ejecutar la interfaz\n",
        "iface.launch()\n",
        "\"\"\"\n",
        "\n",
        "# Guardar el archivo en Colab\n",
        "with open(\"app.py\", \"w\") as f:\n",
        "    f.write(codigo)\n",
        "\n",
        "# Descargar el archivo a tu computadora\n",
        "files.download(\"app.py\")\n"
      ],
      "metadata": {
        "colab": {
          "base_uri": "https://localhost:8080/",
          "height": 17
        },
        "id": "vDOsF7Ag3l44",
        "outputId": "656150f4-9ed0-42d0-bb01-dc7c72576008"
      },
      "execution_count": 6,
      "outputs": [
        {
          "output_type": "display_data",
          "data": {
            "text/plain": [
              "<IPython.core.display.Javascript object>"
            ],
            "application/javascript": [
              "\n",
              "    async function download(id, filename, size) {\n",
              "      if (!google.colab.kernel.accessAllowed) {\n",
              "        return;\n",
              "      }\n",
              "      const div = document.createElement('div');\n",
              "      const label = document.createElement('label');\n",
              "      label.textContent = `Downloading \"${filename}\": `;\n",
              "      div.appendChild(label);\n",
              "      const progress = document.createElement('progress');\n",
              "      progress.max = size;\n",
              "      div.appendChild(progress);\n",
              "      document.body.appendChild(div);\n",
              "\n",
              "      const buffers = [];\n",
              "      let downloaded = 0;\n",
              "\n",
              "      const channel = await google.colab.kernel.comms.open(id);\n",
              "      // Send a message to notify the kernel that we're ready.\n",
              "      channel.send({})\n",
              "\n",
              "      for await (const message of channel.messages) {\n",
              "        // Send a message to notify the kernel that we're ready.\n",
              "        channel.send({})\n",
              "        if (message.buffers) {\n",
              "          for (const buffer of message.buffers) {\n",
              "            buffers.push(buffer);\n",
              "            downloaded += buffer.byteLength;\n",
              "            progress.value = downloaded;\n",
              "          }\n",
              "        }\n",
              "      }\n",
              "      const blob = new Blob(buffers, {type: 'application/binary'});\n",
              "      const a = document.createElement('a');\n",
              "      a.href = window.URL.createObjectURL(blob);\n",
              "      a.download = filename;\n",
              "      div.appendChild(a);\n",
              "      a.click();\n",
              "      div.remove();\n",
              "    }\n",
              "  "
            ]
          },
          "metadata": {}
        },
        {
          "output_type": "display_data",
          "data": {
            "text/plain": [
              "<IPython.core.display.Javascript object>"
            ],
            "application/javascript": [
              "download(\"download_13b5f697-379d-4017-a581-18b6d905afda\", \"app.py\", 1723)"
            ]
          },
          "metadata": {}
        }
      ]
    },
    {
      "cell_type": "code",
      "source": [
        "import gradio as gr\n",
        "import joblib\n",
        "import numpy as np\n",
        "from sklearn.metrics import accuracy_score, recall_score, f1_score\n",
        "\n",
        "# Cargar el modelo\n",
        "modelo_path = \"best_model.pkl\"\n",
        "modelo = joblib.load(modelo_path)\n",
        "\n",
        "# Datos de prueba (ejemplo)\n",
        "y_true = [0, 1, 1, 0, 1]  # Reemplaza con tus datos reales\n",
        "y_pred = [0, 1, 0, 0, 1]  # Reemplaza con las predicciones del modelo\n",
        "\n",
        "# Calcular las métricas\n",
        "accuracy = accuracy_score(y_true, y_pred)\n",
        "recall = recall_score(y_true, y_pred)\n",
        "f1 = f1_score(y_true, y_pred)\n",
        "\n",
        "# Opciones para los inputs\n",
        "opciones_ai = [\"YES\", \"NO\"]\n",
        "opciones_online = [\"YES\", \"NO\"]\n",
        "opciones_education = [\"Masters’ Degree\", \"University Graduate\", \"Highschool Graduate\", \"Doctorate Degree\"]\n",
        "opciones_country = [\"INDIA\", \"CHINA\", \"CANADA\"]\n",
        "\n",
        "# Función de predicción\n",
        "def predecir_satisfaccion(ai_exp, online_pref, education, country):\n",
        "    # Mapeo de las opciones seleccionadas\n",
        "    mapping = {\n",
        "        \"YES\": 1, \"NO\": 0,\n",
        "        \"Masters’ Degree\": 0, \"University Graduate\": 1, \"Highschool Graduate\": 2, \"Doctorate Degree\": 3,\n",
        "        \"INDIA\": 0, \"CHINA\": 1, \"CANADA\": 2\n",
        "    }\n",
        "    entrada = np.array([[mapping[ai_exp], mapping[online_pref], mapping[education], mapping[country]]])\n",
        "    prediccion = modelo.predict(entrada)[0]  # 0 = Unsatisfied, 1 = Satisfied\n",
        "    return \"Satisfied\" if prediccion == 1 else \"Unsatisfied\", f\"Accuracy: {accuracy}\", f\"Recall: {recall}\", f\"F1 Score: {f1}\"\n",
        "\n",
        "# Crear interfaz en Gradio\n",
        "iface = gr.Interface(\n",
        "    fn=predecir_satisfaccion,\n",
        "    inputs=[\n",
        "        gr.Dropdown(choices=opciones_ai, label=\"AI Enhance Experience\"),\n",
        "        gr.Dropdown(choices=opciones_online, label=\"Online Service Preference\"),\n",
        "        gr.Dropdown(choices=opciones_education, label=\"Education\"),\n",
        "        gr.Dropdown(choices=opciones_country, label=\"Country\"),\n",
        "    ],\n",
        "    outputs=[\n",
        "        gr.Textbox(label=\"Predicted Satisfaction\"),\n",
        "        gr.Textbox(label=\"Accuracy\"),\n",
        "        gr.Textbox(label=\"Recall\"),\n",
        "        gr.Textbox(label=\"F1 Score\")\n",
        "    ],\n",
        "    title=\"AI Satisfaction Prediction\",\n",
        "    description=\"Select the user attributes to predict their AI satisfaction level.\"\n",
        ")\n",
        "\n",
        "# Ejecutar la interfaz\n",
        "iface.launch()"
      ],
      "metadata": {
        "id": "LE3pWXgJ3_vv"
      },
      "execution_count": null,
      "outputs": []
    }
  ]
}